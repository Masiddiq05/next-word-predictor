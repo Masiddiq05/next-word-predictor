{
 "cells": [
  {
   "cell_type": "markdown",
   "metadata": {},
   "source": [
    "# Next Word Prediction Model"
   ]
  },
  {
   "cell_type": "markdown",
   "metadata": {},
   "source": [
    "We seek to create a model that, given a string of text, can reliably predict the following *n* words. The model will be a Recurrent Neural Net w/ LSTM architecture."
   ]
  },
  {
   "cell_type": "markdown",
   "metadata": {},
   "source": [
    "## Preprocessing"
   ]
  },
  {
   "cell_type": "code",
   "execution_count": 2,
   "metadata": {},
   "outputs": [
    {
     "name": "stderr",
     "output_type": "stream",
     "text": [
      "[nltk_data] Downloading package punkt to\n",
      "[nltk_data]     C:\\Users\\amira\\AppData\\Roaming\\nltk_data...\n",
      "[nltk_data]   Unzipping tokenizers\\punkt.zip.\n"
     ]
    }
   ],
   "source": [
    "import regex as re\n",
    "import nltk\n",
    "nltk.download('punkt')\n",
    "from nltk.tokenize import word_tokenize, sent_tokenize"
   ]
  },
  {
   "cell_type": "code",
   "execution_count": 3,
   "metadata": {},
   "outputs": [],
   "source": [
    "def remove_unwanted_characters(txt: str) -> str:\n",
    "    # Remove all the unwanted characters from the text using regex\n",
    "    newline_str = r'\\n+'\n",
    "    whitespace_str = r'\\t\\r+'\n",
    "    quotation_str = r\"“|”|‘|’\"\n",
    "    roman_numeral_str = r\"(XI{0,2}\\.)|(VI{0,3}\\.)|(IV|IX|I{1,3}\\.)\"\n",
    "\n",
    "    txt = re.sub(newline_str, ' ', txt)\n",
    "    txt = re.sub(whitespace_str, '', txt)\n",
    "    txt = re.sub(quotation_str, '', txt)\n",
    "    txt = re.sub(roman_numeral_str, '', txt)\n",
    "\n",
    "    return txt"
   ]
  },
  {
   "cell_type": "code",
   "execution_count": 4,
   "metadata": {},
   "outputs": [],
   "source": [
    "def file_to_sentences(FILE_PATH: str) -> list:\n",
    "    # Read the file and return a list of sentences\n",
    "    with open(FILE_PATH, 'r') as f:\n",
    "        txt = f.read()\n",
    "        txt = remove_unwanted_characters(txt)\n",
    "        sentences = sent_tokenize(txt)\n",
    "        return sentences"
   ]
  },
  {
   "cell_type": "code",
   "execution_count": null,
   "metadata": {},
   "outputs": [],
   "source": [
    "FILE_PATH = \"data/\"\n",
    "\n",
    "sentences = file_to_sentences(FILE_PATH)"
   ]
  }
 ],
 "metadata": {
  "kernelspec": {
   "display_name": "Python 3",
   "language": "python",
   "name": "python3"
  },
  "language_info": {
   "codemirror_mode": {
    "name": "ipython",
    "version": 3
   },
   "file_extension": ".py",
   "mimetype": "text/x-python",
   "name": "python",
   "nbconvert_exporter": "python",
   "pygments_lexer": "ipython3",
   "version": "3.11.5"
  },
  "orig_nbformat": 4
 },
 "nbformat": 4,
 "nbformat_minor": 2
}

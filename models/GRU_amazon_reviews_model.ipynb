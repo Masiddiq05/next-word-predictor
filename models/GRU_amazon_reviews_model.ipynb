{
 "cells": [
  {
   "cell_type": "code",
   "execution_count": 1,
   "metadata": {},
   "outputs": [
    {
     "name": "stderr",
     "output_type": "stream",
     "text": [
      "[nltk_data] Downloading package punkt to /home/amiralid/nltk_data...\n",
      "[nltk_data]   Package punkt is already up-to-date!\n"
     ]
    },
    {
     "data": {
      "text/plain": [
       "True"
      ]
     },
     "execution_count": 1,
     "metadata": {},
     "output_type": "execute_result"
    }
   ],
   "source": [
    "import pandas as pd\n",
    "import regex as re\n",
    "import nltk\n",
    "from nltk.tokenize import sent_tokenize, word_tokenize\n",
    "nltk.download('punkt')"
   ]
  },
  {
   "cell_type": "code",
   "execution_count": 2,
   "metadata": {},
   "outputs": [
    {
     "name": "stdout",
     "output_type": "stream",
     "text": [
      "unzip:  cannot find or open data/amazon_reviews.csv.zip, data/amazon_reviews.csv.zip.zip or data/amazon_reviews.csv.zip.ZIP.\r\n"
     ]
    }
   ],
   "source": [
    "!unzip data/amazon_reviews.csv.zip"
   ]
  },
  {
   "cell_type": "code",
   "execution_count": 3,
   "metadata": {},
   "outputs": [],
   "source": [
    "df = pd.read_csv('amazon_reviews.csv')"
   ]
  },
  {
   "cell_type": "code",
   "execution_count": 4,
   "metadata": {},
   "outputs": [
    {
     "data": {
      "text/html": [
       "<div>\n",
       "<style scoped>\n",
       "    .dataframe tbody tr th:only-of-type {\n",
       "        vertical-align: middle;\n",
       "    }\n",
       "\n",
       "    .dataframe tbody tr th {\n",
       "        vertical-align: top;\n",
       "    }\n",
       "\n",
       "    .dataframe thead th {\n",
       "        text-align: right;\n",
       "    }\n",
       "</style>\n",
       "<table border=\"1\" class=\"dataframe\">\n",
       "  <thead>\n",
       "    <tr style=\"text-align: right;\">\n",
       "      <th></th>\n",
       "      <th>Unnamed: 0</th>\n",
       "      <th>reviewerName</th>\n",
       "      <th>overall</th>\n",
       "      <th>reviewText</th>\n",
       "      <th>reviewTime</th>\n",
       "      <th>day_diff</th>\n",
       "      <th>helpful_yes</th>\n",
       "      <th>helpful_no</th>\n",
       "      <th>total_vote</th>\n",
       "      <th>score_pos_neg_diff</th>\n",
       "      <th>score_average_rating</th>\n",
       "      <th>wilson_lower_bound</th>\n",
       "    </tr>\n",
       "  </thead>\n",
       "  <tbody>\n",
       "    <tr>\n",
       "      <th>0</th>\n",
       "      <td>0</td>\n",
       "      <td>NaN</td>\n",
       "      <td>4.0</td>\n",
       "      <td>No issues.</td>\n",
       "      <td>2014-07-23</td>\n",
       "      <td>138</td>\n",
       "      <td>0</td>\n",
       "      <td>0</td>\n",
       "      <td>0</td>\n",
       "      <td>0</td>\n",
       "      <td>0.0</td>\n",
       "      <td>0.0</td>\n",
       "    </tr>\n",
       "    <tr>\n",
       "      <th>1</th>\n",
       "      <td>1</td>\n",
       "      <td>0mie</td>\n",
       "      <td>5.0</td>\n",
       "      <td>Purchased this for my device, it worked as adv...</td>\n",
       "      <td>2013-10-25</td>\n",
       "      <td>409</td>\n",
       "      <td>0</td>\n",
       "      <td>0</td>\n",
       "      <td>0</td>\n",
       "      <td>0</td>\n",
       "      <td>0.0</td>\n",
       "      <td>0.0</td>\n",
       "    </tr>\n",
       "    <tr>\n",
       "      <th>2</th>\n",
       "      <td>2</td>\n",
       "      <td>1K3</td>\n",
       "      <td>4.0</td>\n",
       "      <td>it works as expected. I should have sprung for...</td>\n",
       "      <td>2012-12-23</td>\n",
       "      <td>715</td>\n",
       "      <td>0</td>\n",
       "      <td>0</td>\n",
       "      <td>0</td>\n",
       "      <td>0</td>\n",
       "      <td>0.0</td>\n",
       "      <td>0.0</td>\n",
       "    </tr>\n",
       "    <tr>\n",
       "      <th>3</th>\n",
       "      <td>3</td>\n",
       "      <td>1m2</td>\n",
       "      <td>5.0</td>\n",
       "      <td>This think has worked out great.Had a diff. br...</td>\n",
       "      <td>2013-11-21</td>\n",
       "      <td>382</td>\n",
       "      <td>0</td>\n",
       "      <td>0</td>\n",
       "      <td>0</td>\n",
       "      <td>0</td>\n",
       "      <td>0.0</td>\n",
       "      <td>0.0</td>\n",
       "    </tr>\n",
       "    <tr>\n",
       "      <th>4</th>\n",
       "      <td>4</td>\n",
       "      <td>2&amp;amp;1/2Men</td>\n",
       "      <td>5.0</td>\n",
       "      <td>Bought it with Retail Packaging, arrived legit...</td>\n",
       "      <td>2013-07-13</td>\n",
       "      <td>513</td>\n",
       "      <td>0</td>\n",
       "      <td>0</td>\n",
       "      <td>0</td>\n",
       "      <td>0</td>\n",
       "      <td>0.0</td>\n",
       "      <td>0.0</td>\n",
       "    </tr>\n",
       "  </tbody>\n",
       "</table>\n",
       "</div>"
      ],
      "text/plain": [
       "   Unnamed: 0  reviewerName  overall  \\\n",
       "0           0           NaN      4.0   \n",
       "1           1          0mie      5.0   \n",
       "2           2           1K3      4.0   \n",
       "3           3           1m2      5.0   \n",
       "4           4  2&amp;1/2Men      5.0   \n",
       "\n",
       "                                          reviewText  reviewTime  day_diff  \\\n",
       "0                                         No issues.  2014-07-23       138   \n",
       "1  Purchased this for my device, it worked as adv...  2013-10-25       409   \n",
       "2  it works as expected. I should have sprung for...  2012-12-23       715   \n",
       "3  This think has worked out great.Had a diff. br...  2013-11-21       382   \n",
       "4  Bought it with Retail Packaging, arrived legit...  2013-07-13       513   \n",
       "\n",
       "   helpful_yes  helpful_no  total_vote  score_pos_neg_diff  \\\n",
       "0            0           0           0                   0   \n",
       "1            0           0           0                   0   \n",
       "2            0           0           0                   0   \n",
       "3            0           0           0                   0   \n",
       "4            0           0           0                   0   \n",
       "\n",
       "   score_average_rating  wilson_lower_bound  \n",
       "0                   0.0                 0.0  \n",
       "1                   0.0                 0.0  \n",
       "2                   0.0                 0.0  \n",
       "3                   0.0                 0.0  \n",
       "4                   0.0                 0.0  "
      ]
     },
     "execution_count": 4,
     "metadata": {},
     "output_type": "execute_result"
    }
   ],
   "source": [
    "df.head()"
   ]
  },
  {
   "cell_type": "code",
   "execution_count": 5,
   "metadata": {},
   "outputs": [],
   "source": [
    "# Keep only reviewText column\n",
    "df = df[['reviewText']]"
   ]
  },
  {
   "cell_type": "code",
   "execution_count": 6,
   "metadata": {},
   "outputs": [
    {
     "data": {
      "text/html": [
       "<div>\n",
       "<style scoped>\n",
       "    .dataframe tbody tr th:only-of-type {\n",
       "        vertical-align: middle;\n",
       "    }\n",
       "\n",
       "    .dataframe tbody tr th {\n",
       "        vertical-align: top;\n",
       "    }\n",
       "\n",
       "    .dataframe thead th {\n",
       "        text-align: right;\n",
       "    }\n",
       "</style>\n",
       "<table border=\"1\" class=\"dataframe\">\n",
       "  <thead>\n",
       "    <tr style=\"text-align: right;\">\n",
       "      <th></th>\n",
       "      <th>reviewText</th>\n",
       "    </tr>\n",
       "  </thead>\n",
       "  <tbody>\n",
       "    <tr>\n",
       "      <th>0</th>\n",
       "      <td>No issues.</td>\n",
       "    </tr>\n",
       "    <tr>\n",
       "      <th>1</th>\n",
       "      <td>Purchased this for my device, it worked as adv...</td>\n",
       "    </tr>\n",
       "    <tr>\n",
       "      <th>2</th>\n",
       "      <td>it works as expected. I should have sprung for...</td>\n",
       "    </tr>\n",
       "    <tr>\n",
       "      <th>3</th>\n",
       "      <td>This think has worked out great.Had a diff. br...</td>\n",
       "    </tr>\n",
       "    <tr>\n",
       "      <th>4</th>\n",
       "      <td>Bought it with Retail Packaging, arrived legit...</td>\n",
       "    </tr>\n",
       "  </tbody>\n",
       "</table>\n",
       "</div>"
      ],
      "text/plain": [
       "                                          reviewText\n",
       "0                                         No issues.\n",
       "1  Purchased this for my device, it worked as adv...\n",
       "2  it works as expected. I should have sprung for...\n",
       "3  This think has worked out great.Had a diff. br...\n",
       "4  Bought it with Retail Packaging, arrived legit..."
      ]
     },
     "execution_count": 6,
     "metadata": {},
     "output_type": "execute_result"
    }
   ],
   "source": [
    "df.head()"
   ]
  },
  {
   "cell_type": "code",
   "execution_count": 7,
   "metadata": {},
   "outputs": [],
   "source": [
    "def process(text: str):\n",
    "    text = text.strip()\n",
    "    text = re.sub(r'\\s+', ' ', text)  # Remove extra spaces\n",
    "    text = re.sub(r'[\\/|-|>|<|=|\\(|\\)|\\{|\\}|\\[\\]]+', '', text) # Eliminate slash and hyphen and other chars\n",
    "    text = re.sub(r'[0-9]+(gb|GB|Gb)', '', text)\n",
    "    text = re.sub(r'[0-9]+', '', text)\n",
    "    text = re.sub(r'[0-9]{1,2}\\/[0-9]{1,2}\\/[0-9]{2}', '', text)  # Remove dates\n",
    "    \n",
    "    if not text.endswith('.'):\n",
    "        text += '.'  # Add a period to the end of the sentence if it doesn't have one\n",
    "    text += \" \"\n",
    "    return text\n",
    "\n",
    "# Apply the function to each item in the column and then concatenate the results\n",
    "running_string = \"\".join(df['reviewText'].apply(lambda x: process(str(x))))"
   ]
  },
  {
   "cell_type": "code",
   "execution_count": 8,
   "metadata": {},
   "outputs": [],
   "source": [
    "sentences = sent_tokenize(running_string)"
   ]
  },
  {
   "cell_type": "code",
   "execution_count": 9,
   "metadata": {},
   "outputs": [],
   "source": [
    "sentences = sentences[:9000]"
   ]
  },
  {
   "cell_type": "code",
   "execution_count": 10,
   "metadata": {},
   "outputs": [
    {
     "data": {
      "text/plain": [
       "['No issues.',\n",
       " 'Purchased this for my device, it worked as advertised.',\n",
       " 'You can never have too much phone memory, since I download a lot of stuff this was a no brainer for me.',\n",
       " 'it works as expected.',\n",
       " 'I should have sprung for the higher capacity.',\n",
       " 'I think its made a bit cheesier than the earlier versions; the paint looks not as clean as before.',\n",
       " 'This think has worked out great.Had a diff.',\n",
       " 'bran  card and if went south after  months.This one has held up pretty well since I had my S, now on my Note.',\n",
       " \"*** update I've had this for a few months and have had ZERO issue's since it was transferred from my S to my Note and into a note.\",\n",
       " 'This card is reliable and solid!Cheers!.']"
      ]
     },
     "execution_count": 10,
     "metadata": {},
     "output_type": "execute_result"
    }
   ],
   "source": [
    "sentences[:10]"
   ]
  },
  {
   "cell_type": "code",
   "execution_count": 11,
   "metadata": {},
   "outputs": [
    {
     "data": {
      "text/plain": [
       "['This item is great!',\n",
       " \"I can't believe how small it is.\",\n",
       " \"Imagine  this size back in the 's when they had whole buildings full of computers that couldn't pack this much space!\",\n",
       " 'Great item.',\n",
       " \"I've been trying for a while to get a hold of a  Micro SD for my phone and tablet.\",\n",
       " \"It's pretty fast compared to the  cards I've been using.\",\n",
       " 'I really saw the performance boost with my phone, which I have many apps, pictures, music, and other documents on.',\n",
       " 'The phone boots fully stable in about  mins as apposed to - mins.',\n",
       " 'My computer also can write to these cards much faster than the  ones I was using.',\n",
       " 'If you phone, tablet or any other device can support it I recommend you purchase these.']"
      ]
     },
     "execution_count": 11,
     "metadata": {},
     "output_type": "execute_result"
    }
   ],
   "source": [
    "sentences[100:110]"
   ]
  },
  {
   "cell_type": "code",
   "execution_count": 12,
   "metadata": {},
   "outputs": [],
   "source": [
    "tokenized_sentences = [word_tokenize(sentence) for sentence in sentences]"
   ]
  },
  {
   "cell_type": "code",
   "execution_count": 13,
   "metadata": {},
   "outputs": [],
   "source": [
    "all_words = [word.strip() for sentence in tokenized_sentences for word in sentence]\n",
    "vocabulary = set(all_words)"
   ]
  },
  {
   "cell_type": "code",
   "execution_count": 14,
   "metadata": {},
   "outputs": [
    {
     "data": {
      "text/plain": [
       "['for',\n",
       " 'a',\n",
       " 'few',\n",
       " 'months',\n",
       " 'and',\n",
       " 'have',\n",
       " 'had',\n",
       " 'ZERO',\n",
       " 'issue',\n",
       " \"'s\",\n",
       " 'since',\n",
       " 'it',\n",
       " 'was',\n",
       " 'transferred',\n",
       " 'from',\n",
       " 'my',\n",
       " 'S',\n",
       " 'to',\n",
       " 'my',\n",
       " 'Note']"
      ]
     },
     "execution_count": 14,
     "metadata": {},
     "output_type": "execute_result"
    }
   ],
   "source": [
    "all_words[115:135]"
   ]
  },
  {
   "cell_type": "code",
   "execution_count": 15,
   "metadata": {},
   "outputs": [
    {
     "data": {
      "text/plain": [
       "8198"
      ]
     },
     "execution_count": 15,
     "metadata": {},
     "output_type": "execute_result"
    }
   ],
   "source": [
    "len(vocabulary)"
   ]
  },
  {
   "cell_type": "code",
   "execution_count": 16,
   "metadata": {},
   "outputs": [],
   "source": [
    "# Using a list comprehension, we can loop through each (idx, word) pair from enumerate\n",
    "# Each pair holds the key and value we want in our word_to_idx dict\n",
    "# We start the enumeration from 1, not 0, because want 0 to represent the padding token\n",
    "word_to_idx = {word.strip() : idx for idx, word in enumerate(vocabulary, 1)}\n",
    "# Let's also create a idx_to_word dict so we can interpet the results of the model later\n",
    "idx_to_word = {idx : word.strip() for word, idx in word_to_idx.items()}\n",
    "vocab_size = len(vocabulary) + 1"
   ]
  },
  {
   "cell_type": "code",
   "execution_count": 17,
   "metadata": {},
   "outputs": [],
   "source": [
    "import pickle\n",
    "with open('amzn_word_to_idx.pkl', 'wb') as f:  # open a text file\n",
    "    pickle.dump(word_to_idx, f)\n",
    "with open('amzn_idx_to_word.pkl', 'wb') as f:\n",
    "    pickle.dump(idx_to_word, f)"
   ]
  },
  {
   "cell_type": "code",
   "execution_count": 18,
   "metadata": {},
   "outputs": [],
   "source": [
    "input_sequences = []\n",
    "for sentence in tokenized_sentences:\n",
    "  # Convert the sentence to its numerical representation with the word_to_idx mapping\n",
    "  numerized_sentence = [word_to_idx[word.strip()] for word in sentence]\n",
    "  # Create ngrams from size 2 to the size of the sentence\n",
    "  for i in range(2, len(sentence) + 1):\n",
    "    ngram = numerized_sentence[:i]\n",
    "    input_sequences.append(ngram)"
   ]
  },
  {
   "cell_type": "code",
   "execution_count": 19,
   "metadata": {},
   "outputs": [],
   "source": [
    "from tensorflow.keras.utils import to_categorical\n",
    "from tensorflow.keras.preprocessing.sequence import pad_sequences"
   ]
  },
  {
   "cell_type": "code",
   "execution_count": 20,
   "metadata": {},
   "outputs": [],
   "source": [
    "# Now, let's pad the sequences so they are all the same length\n",
    "max_sequence_len = max([len(seq) for seq in input_sequences])\n",
    "# pad_sequences adds 0s to the beginning of each array until size(vector) = max_sequence_len\n",
    "# This is why we started our enumeration from 1, not 0, because 0 represents the padding token\n",
    "# We use pre padding because padding at the end would cause us to lose the location of the label\n",
    "input_sequences = pad_sequences(input_sequences, maxlen=max_sequence_len, padding='pre')"
   ]
  },
  {
   "cell_type": "code",
   "execution_count": 21,
   "metadata": {},
   "outputs": [],
   "source": [
    "X = [sequence[:-1] for sequence in input_sequences]\n",
    "y = [sequence[-1] for sequence in input_sequences]"
   ]
  },
  {
   "cell_type": "code",
   "execution_count": 22,
   "metadata": {},
   "outputs": [],
   "source": [
    "def pretty_display(vec: list[int], idx_to_word: dict):\n",
    "    print(\" \".join([idx_to_word[idx] if idx else '' for idx in vec]).strip())\n",
    "\n",
    "def pretty_display_all(vecs: list[list[int]], idx_to_word: dict):\n",
    "    for vec in vecs:\n",
    "        pretty_display(vec, idx_to_word)\n",
    "\n",
    "def pretty_display_one(idx: int, idx_to_word: dict):\n",
    "    print(idx_to_word[idx])"
   ]
  },
  {
   "cell_type": "code",
   "execution_count": 23,
   "metadata": {},
   "outputs": [
    {
     "name": "stdout",
     "output_type": "stream",
     "text": [
      "I would not hesitate to buy\n"
     ]
    }
   ],
   "source": [
    "pretty_display(X[1003], idx_to_word)"
   ]
  },
  {
   "cell_type": "code",
   "execution_count": 24,
   "metadata": {},
   "outputs": [
    {
     "name": "stdout",
     "output_type": "stream",
     "text": [
      "another one of these great\n"
     ]
    }
   ],
   "source": [
    "pretty_display(y[1003:1008], idx_to_word)"
   ]
  },
  {
   "cell_type": "code",
   "execution_count": 25,
   "metadata": {},
   "outputs": [],
   "source": [
    "y = to_categorical(y, num_classes=vocab_size)"
   ]
  },
  {
   "cell_type": "code",
   "execution_count": 26,
   "metadata": {},
   "outputs": [],
   "source": [
    "import numpy as np"
   ]
  },
  {
   "cell_type": "code",
   "execution_count": 27,
   "metadata": {},
   "outputs": [
    {
     "data": {
      "text/plain": [
       "(140881, 198)"
      ]
     },
     "execution_count": 27,
     "metadata": {},
     "output_type": "execute_result"
    }
   ],
   "source": [
    "arr_x = np.array(X)\n",
    "arr_x.shape"
   ]
  },
  {
   "cell_type": "code",
   "execution_count": 28,
   "metadata": {},
   "outputs": [],
   "source": [
    "# arr_y = np.array(y)\n",
    "# arr_y.shape"
   ]
  },
  {
   "cell_type": "markdown",
   "metadata": {},
   "source": [
    "# Building the Model"
   ]
  },
  {
   "cell_type": "code",
   "execution_count": 29,
   "metadata": {},
   "outputs": [],
   "source": [
    "from tensorflow.keras.callbacks import EarlyStopping\n",
    "from tensorflow.keras.models import Sequential\n",
    "from tensorflow.keras.layers import Embedding, GRU, Dense, Dropout, BatchNormalization, SpatialDropout1D, GaussianNoise\n",
    "from tensorflow.keras.regularizers import l2\n",
    "from tensorflow.keras.optimizers import Adam"
   ]
  },
  {
   "cell_type": "code",
   "execution_count": 30,
   "metadata": {},
   "outputs": [
    {
     "name": "stdout",
     "output_type": "stream",
     "text": [
      "WARNING:tensorflow:Layer gru will not use cuDNN kernels since it doesn't meet the criteria. It will use a generic GPU kernel as fallback when running on GPU.\n"
     ]
    },
    {
     "name": "stderr",
     "output_type": "stream",
     "text": [
      "2023-11-13 06:31:05.402633: I tensorflow/core/platform/cpu_feature_guard.cc:151] This TensorFlow binary is optimized with oneAPI Deep Neural Network Library (oneDNN) to use the following CPU instructions in performance-critical operations:  AVX2 AVX512F FMA\n",
      "To enable them in other operations, rebuild TensorFlow with the appropriate compiler flags.\n",
      "2023-11-13 06:31:06.150143: I tensorflow/core/common_runtime/gpu/gpu_device.cc:1525] Created device /job:localhost/replica:0/task:0/device:GPU:0 with 14623 MB memory:  -> device: 0, name: Tesla V100-PCIE-16GB, pci bus id: 0000:3b:00.0, compute capability: 7.0\n"
     ]
    }
   ],
   "source": [
    "# Building the RNN model\n",
    "model = Sequential()\n",
    "\n",
    "# Embedding layer\n",
    "model.add(Embedding(vocab_size, 48, input_length=max_sequence_len-1))  # Increased embedding dimensions\n",
    "# model.add(SpatialDropout1D(0.15))\n",
    "# model.add(GaussianNoise(0.1))\n",
    "\n",
    "# RNN 1\n",
    "model.add(GRU(96, dropout=0.1, recurrent_dropout=0.1))  # Increased units, added dropout\n",
    "# model.add(BatchNormalization())\n",
    "\n",
    "# Final Layer\n",
    "model.add(Dense(vocab_size, activation='softmax'))"
   ]
  },
  {
   "cell_type": "code",
   "execution_count": 31,
   "metadata": {},
   "outputs": [
    {
     "name": "stdout",
     "output_type": "stream",
     "text": [
      "Model: \"sequential\"\n",
      "_________________________________________________________________\n",
      " Layer (type)                Output Shape              Param #   \n",
      "=================================================================\n",
      " embedding (Embedding)       (None, 198, 48)           393552    \n",
      "                                                                 \n",
      " gru (GRU)                   (None, 96)                42048     \n",
      "                                                                 \n",
      " dense (Dense)               (None, 8199)              795303    \n",
      "                                                                 \n",
      "=================================================================\n",
      "Total params: 1,230,903\n",
      "Trainable params: 1,230,903\n",
      "Non-trainable params: 0\n",
      "_________________________________________________________________\n"
     ]
    }
   ],
   "source": [
    "model.compile(optimizer=Adam(learning_rate=0.01, clipnorm=1.0), loss='categorical_crossentropy', metrics=['accuracy'])\n",
    "model.summary()"
   ]
  },
  {
   "cell_type": "code",
   "execution_count": 32,
   "metadata": {},
   "outputs": [],
   "source": [
    "# Stop the model early\n",
    "early_stop = EarlyStopping(monitor='loss', patience=12, verbose=1, restore_best_weights=True)"
   ]
  },
  {
   "cell_type": "code",
   "execution_count": 33,
   "metadata": {},
   "outputs": [],
   "source": [
    "from tensorflow import convert_to_tensor"
   ]
  },
  {
   "cell_type": "code",
   "execution_count": 34,
   "metadata": {},
   "outputs": [],
   "source": [
    "X = convert_to_tensor(arr_x)\n",
    "y = convert_to_tensor(y)"
   ]
  },
  {
   "cell_type": "code",
   "execution_count": 35,
   "metadata": {},
   "outputs": [
    {
     "name": "stdout",
     "output_type": "stream",
     "text": [
      "Epoch 1/50\n",
      "1761/1761 [==============================] - 412s 233ms/step - loss: 5.6811 - accuracy: 0.1270 - val_loss: 4.9883 - val_accuracy: 0.1741\n",
      "Epoch 2/50\n",
      "1761/1761 [==============================] - 408s 232ms/step - loss: 4.7371 - accuracy: 0.1833 - val_loss: 4.9099 - val_accuracy: 0.1819\n",
      "Epoch 3/50\n",
      "1761/1761 [==============================] - 408s 231ms/step - loss: 4.3968 - accuracy: 0.1998 - val_loss: 4.9249 - val_accuracy: 0.1916\n",
      "Epoch 4/50\n",
      "1761/1761 [==============================] - 407s 231ms/step - loss: 4.1597 - accuracy: 0.2121 - val_loss: 4.9839 - val_accuracy: 0.1961\n",
      "Epoch 5/50\n",
      "1761/1761 [==============================] - 407s 231ms/step - loss: 3.9772 - accuracy: 0.2210 - val_loss: 5.0579 - val_accuracy: 0.1927\n",
      "Epoch 6/50\n",
      "1761/1761 [==============================] - 408s 232ms/step - loss: 3.8253 - accuracy: 0.2317 - val_loss: 5.1585 - val_accuracy: 0.1915\n",
      "Epoch 7/50\n",
      "1761/1761 [==============================] - 407s 231ms/step - loss: 3.7109 - accuracy: 0.2450 - val_loss: 5.2306 - val_accuracy: 0.1886\n",
      "Epoch 8/50\n",
      "1761/1761 [==============================] - 408s 232ms/step - loss: 3.6166 - accuracy: 0.2537 - val_loss: 5.2831 - val_accuracy: 0.1890\n",
      "Epoch 9/50\n",
      "1761/1761 [==============================] - 407s 231ms/step - loss: 3.5420 - accuracy: 0.2627 - val_loss: 5.3859 - val_accuracy: 0.1868\n",
      "Epoch 10/50\n",
      "1761/1761 [==============================] - 408s 231ms/step - loss: 3.4993 - accuracy: 0.2684 - val_loss: 5.4421 - val_accuracy: 0.1820\n",
      "Epoch 11/50\n",
      "1761/1761 [==============================] - 409s 232ms/step - loss: 3.4582 - accuracy: 0.2729 - val_loss: 5.4844 - val_accuracy: 0.1817\n",
      "Epoch 12/50\n",
      "1761/1761 [==============================] - 411s 233ms/step - loss: 3.4212 - accuracy: 0.2773 - val_loss: 5.5774 - val_accuracy: 0.1835\n",
      "Epoch 13/50\n",
      "1761/1761 [==============================] - 411s 233ms/step - loss: 3.3853 - accuracy: 0.2804 - val_loss: 5.6328 - val_accuracy: 0.1780\n",
      "Epoch 14/50\n",
      "  65/1761 [>.............................] - ETA: 6:16 - loss: 3.1174 - accuracy: 0.3233"
     ]
    },
    {
     "name": "stderr",
     "output_type": "stream",
     "text": [
      "IOPub message rate exceeded.\n",
      "The notebook server will temporarily stop sending output\n",
      "to the client in order to avoid crashing it.\n",
      "To change this limit, set the config variable\n",
      "`--NotebookApp.iopub_msg_rate_limit`.\n",
      "\n",
      "Current values:\n",
      "NotebookApp.iopub_msg_rate_limit=1000.0 (msgs/sec)\n",
      "NotebookApp.rate_limit_window=3.0 (secs)\n",
      "\n"
     ]
    },
    {
     "name": "stdout",
     "output_type": "stream",
     "text": [
      "1761/1761 [==============================] - 411s 233ms/step - loss: 3.2670 - accuracy: 0.2960 - val_loss: 6.0036 - val_accuracy: 0.1773\n",
      "Epoch 21/50\n",
      "1478/1761 [========================>.....] - ETA: 1:03 - loss: 3.2211 - accuracy: 0.3011"
     ]
    },
    {
     "name": "stderr",
     "output_type": "stream",
     "text": [
      "IOPub message rate exceeded.\n",
      "The notebook server will temporarily stop sending output\n",
      "to the client in order to avoid crashing it.\n",
      "To change this limit, set the config variable\n",
      "`--NotebookApp.iopub_msg_rate_limit`.\n",
      "\n",
      "Current values:\n",
      "NotebookApp.iopub_msg_rate_limit=1000.0 (msgs/sec)\n",
      "NotebookApp.rate_limit_window=3.0 (secs)\n",
      "\n"
     ]
    },
    {
     "name": "stdout",
     "output_type": "stream",
     "text": [
      "1761/1761 [==============================] - 411s 233ms/step - loss: 3.2476 - accuracy: 0.2992 - val_loss: 6.0915 - val_accuracy: 0.1763\n",
      "Epoch 23/50\n",
      "1761/1761 [==============================] - 411s 234ms/step - loss: 3.2393 - accuracy: 0.2996 - val_loss: 6.1616 - val_accuracy: 0.1770\n",
      "Epoch 24/50\n",
      "1761/1761 [==============================] - 412s 234ms/step - loss: 3.2349 - accuracy: 0.3001 - val_loss: 6.1859 - val_accuracy: 0.1770\n",
      "Epoch 25/50\n",
      "1761/1761 [==============================] - 411s 233ms/step - loss: 3.2282 - accuracy: 0.3012 - val_loss: 6.2576 - val_accuracy: 0.1762\n",
      "Epoch 26/50\n",
      "1761/1761 [==============================] - 410s 233ms/step - loss: 3.2261 - accuracy: 0.3032 - val_loss: 6.2889 - val_accuracy: 0.1717\n",
      "Epoch 27/50\n",
      "1761/1761 [==============================] - 410s 233ms/step - loss: 3.2173 - accuracy: 0.3017 - val_loss: 6.3222 - val_accuracy: 0.1709\n",
      "Epoch 28/50\n",
      "1761/1761 [==============================] - 410s 233ms/step - loss: 3.2108 - accuracy: 0.3057 - val_loss: 6.3949 - val_accuracy: 0.1681\n",
      "Epoch 29/50\n",
      "1761/1761 [==============================] - 410s 233ms/step - loss: 3.2122 - accuracy: 0.3037 - val_loss: 6.4511 - val_accuracy: 0.1677\n",
      "Epoch 30/50\n",
      "1761/1761 [==============================] - 410s 233ms/step - loss: 3.2118 - accuracy: 0.3039 - val_loss: 6.4762 - val_accuracy: 0.1707\n",
      "Epoch 31/50\n",
      "1761/1761 [==============================] - 411s 233ms/step - loss: 3.2067 - accuracy: 0.3030 - val_loss: 6.5114 - val_accuracy: 0.1740\n",
      "Epoch 32/50\n",
      " 999/1761 [================>.............] - ETA: 2:49 - loss: 3.1139 - accuracy: 0.3155"
     ]
    },
    {
     "name": "stderr",
     "output_type": "stream",
     "text": [
      "IOPub message rate exceeded.\n",
      "The notebook server will temporarily stop sending output\n",
      "to the client in order to avoid crashing it.\n",
      "To change this limit, set the config variable\n",
      "`--NotebookApp.iopub_msg_rate_limit`.\n",
      "\n",
      "Current values:\n",
      "NotebookApp.iopub_msg_rate_limit=1000.0 (msgs/sec)\n",
      "NotebookApp.rate_limit_window=3.0 (secs)\n",
      "\n"
     ]
    },
    {
     "name": "stdout",
     "output_type": "stream",
     "text": [
      "1761/1761 [==============================] - 411s 233ms/step - loss: 3.2153 - accuracy: 0.3033 - val_loss: 6.7966 - val_accuracy: 0.1688\n",
      "Epoch 39/50\n",
      "1761/1761 [==============================] - 410s 233ms/step - loss: 3.1955 - accuracy: 0.3063 - val_loss: 6.8335 - val_accuracy: 0.1680\n",
      "Epoch 40/50\n",
      "  20/1761 [..............................] - ETA: 6:25 - loss: 2.8869 - accuracy: 0.3469"
     ]
    },
    {
     "name": "stderr",
     "output_type": "stream",
     "text": [
      "IOPub message rate exceeded.\n",
      "The notebook server will temporarily stop sending output\n",
      "to the client in order to avoid crashing it.\n",
      "To change this limit, set the config variable\n",
      "`--NotebookApp.iopub_msg_rate_limit`.\n",
      "\n",
      "Current values:\n",
      "NotebookApp.iopub_msg_rate_limit=1000.0 (msgs/sec)\n",
      "NotebookApp.rate_limit_window=3.0 (secs)\n",
      "\n"
     ]
    },
    {
     "name": "stdout",
     "output_type": "stream",
     "text": [
      "1761/1761 [==============================] - 411s 234ms/step - loss: 3.2415 - accuracy: 0.3013 - val_loss: 7.0485 - val_accuracy: 0.1647\n",
      "Epoch 45/50\n",
      "1761/1761 [==============================] - 411s 233ms/step - loss: 3.2345 - accuracy: 0.3020 - val_loss: 7.0644 - val_accuracy: 0.1721\n",
      "Epoch 46/50\n",
      "1761/1761 [==============================] - 411s 234ms/step - loss: 3.2317 - accuracy: 0.3035 - val_loss: 7.0959 - val_accuracy: 0.1664\n",
      "Epoch 47/50\n",
      "1761/1761 [==============================] - 412s 234ms/step - loss: 3.2622 - accuracy: 0.2990 - val_loss: 7.1439 - val_accuracy: 0.1679\n",
      "Epoch 48/50\n",
      "1761/1761 [==============================] - 411s 234ms/step - loss: 3.2429 - accuracy: 0.3025 - val_loss: 7.1383 - val_accuracy: 0.1596\n",
      "Epoch 49/50\n",
      "1761/1761 [==============================] - 411s 233ms/step - loss: 3.2356 - accuracy: 0.3027 - val_loss: 7.2254 - val_accuracy: 0.1632\n",
      "Epoch 50/50\n",
      "1761/1761 [==============================] - 410s 233ms/step - loss: 3.2388 - accuracy: 0.3001 - val_loss: 7.2486 - val_accuracy: 0.1654\n"
     ]
    }
   ],
   "source": [
    "# This will train the model; adjust epochs and batch size as necessary\n",
    "history = model.fit(X, y, epochs=50, batch_size=64, verbose=1, validation_split=0.2, callbacks=[early_stop])"
   ]
  },
  {
   "cell_type": "code",
   "execution_count": 36,
   "metadata": {},
   "outputs": [],
   "source": [
    "model.save('amazon_reviews_GRU.h5')"
   ]
  },
  {
   "cell_type": "code",
   "execution_count": 37,
   "metadata": {},
   "outputs": [],
   "source": [
    "def predict_next_n_words(model, text, n, max_sequence_len, word_to_index, index_to_word):\n",
    "    \"\"\"\n",
    "    Predict the next n words based on the input text.\n",
    "\n",
    "    Args:\n",
    "    - model (tf.keras.Model): Trained model for prediction.\n",
    "    - text (str): Input string.\n",
    "    - n (int): Number of words to predict.\n",
    "    - max_sequence_len (int): Maximum length of input sequences.\n",
    "    - word_to_index (dict): Mapping from words to their respective indices.\n",
    "    - index_to_word (dict): Mapping from indices to their respective words.\n",
    "\n",
    "    Returns:\n",
    "    - str: Predicted sequence of words.\n",
    "    \"\"\"\n",
    "\n",
    "    predicted_sequence = []\n",
    "\n",
    "    for _ in range(n):\n",
    "        # Tokenize the input string\n",
    "        token_list = [word_to_index[word] for word in word_tokenize(text) if word in word_to_index]\n",
    "\n",
    "        # Pad the token sequence\n",
    "        token_list = pad_sequences([token_list], maxlen=max_sequence_len-1, padding='pre')\n",
    "\n",
    "        # Predict the token of the next word\n",
    "        predicted_idx = np.argmax(model.predict(token_list), axis=-1)\n",
    "\n",
    "        # Convert the token back to a word\n",
    "        predicted_word = index_to_word.get(predicted_idx[0], '')\n",
    "\n",
    "        # Append the predicted word to the sequence and to the text (for the next iteration)\n",
    "        predicted_sequence.append(predicted_word)\n",
    "        text += \" \" + predicted_word\n",
    "\n",
    "    return ' '.join(predicted_sequence)"
   ]
  },
  {
   "cell_type": "code",
   "execution_count": 41,
   "metadata": {},
   "outputs": [
    {
     "name": "stdout",
     "output_type": "stream",
     "text": [
      "I really hate how it is a slower than\n"
     ]
    }
   ],
   "source": [
    "input_text = \"I really hate how\"\n",
    "prediction = predict_next_n_words(model, input_text, 5, max_sequence_len, word_to_idx, idx_to_word)\n",
    "print(input_text + \" \" + prediction)"
   ]
  },
  {
   "cell_type": "code",
   "execution_count": null,
   "metadata": {},
   "outputs": [],
   "source": []
  }
 ],
 "metadata": {
  "kernelspec": {
   "display_name": "Python 3 (ipykernel)",
   "language": "python",
   "name": "python3"
  },
  "language_info": {
   "codemirror_mode": {
    "name": "ipython",
    "version": 3
   },
   "file_extension": ".py",
   "mimetype": "text/x-python",
   "name": "python",
   "nbconvert_exporter": "python",
   "pygments_lexer": "ipython3",
   "version": "3.9.7"
  }
 },
 "nbformat": 4,
 "nbformat_minor": 2
}

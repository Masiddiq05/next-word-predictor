{
 "cells": [
  {
   "cell_type": "code",
   "execution_count": 1,
   "metadata": {},
   "outputs": [
    {
     "name": "stderr",
     "output_type": "stream",
     "text": [
      "[nltk_data] Downloading package punkt to /home/amiralid/nltk_data...\n",
      "[nltk_data]   Package punkt is already up-to-date!\n"
     ]
    },
    {
     "data": {
      "text/plain": [
       "True"
      ]
     },
     "execution_count": 1,
     "metadata": {},
     "output_type": "execute_result"
    }
   ],
   "source": [
    "import pandas as pd\n",
    "import regex as re\n",
    "import nltk\n",
    "from nltk.tokenize import sent_tokenize, word_tokenize\n",
    "nltk.download('punkt')"
   ]
  },
  {
   "cell_type": "code",
   "execution_count": 2,
   "metadata": {},
   "outputs": [
    {
     "name": "stdout",
     "output_type": "stream",
     "text": [
      "unzip:  cannot find or open data/amazon_reviews.csv.zip, data/amazon_reviews.csv.zip.zip or data/amazon_reviews.csv.zip.ZIP.\r\n"
     ]
    }
   ],
   "source": [
    "!unzip data/amazon_reviews.csv.zip"
   ]
  },
  {
   "cell_type": "code",
   "execution_count": 3,
   "metadata": {},
   "outputs": [],
   "source": [
    "df = pd.read_csv('amazon_reviews.csv')"
   ]
  },
  {
   "cell_type": "code",
   "execution_count": 4,
   "metadata": {},
   "outputs": [
    {
     "data": {
      "text/html": [
       "<div>\n",
       "<style scoped>\n",
       "    .dataframe tbody tr th:only-of-type {\n",
       "        vertical-align: middle;\n",
       "    }\n",
       "\n",
       "    .dataframe tbody tr th {\n",
       "        vertical-align: top;\n",
       "    }\n",
       "\n",
       "    .dataframe thead th {\n",
       "        text-align: right;\n",
       "    }\n",
       "</style>\n",
       "<table border=\"1\" class=\"dataframe\">\n",
       "  <thead>\n",
       "    <tr style=\"text-align: right;\">\n",
       "      <th></th>\n",
       "      <th>Unnamed: 0</th>\n",
       "      <th>reviewerName</th>\n",
       "      <th>overall</th>\n",
       "      <th>reviewText</th>\n",
       "      <th>reviewTime</th>\n",
       "      <th>day_diff</th>\n",
       "      <th>helpful_yes</th>\n",
       "      <th>helpful_no</th>\n",
       "      <th>total_vote</th>\n",
       "      <th>score_pos_neg_diff</th>\n",
       "      <th>score_average_rating</th>\n",
       "      <th>wilson_lower_bound</th>\n",
       "    </tr>\n",
       "  </thead>\n",
       "  <tbody>\n",
       "    <tr>\n",
       "      <th>0</th>\n",
       "      <td>0</td>\n",
       "      <td>NaN</td>\n",
       "      <td>4.0</td>\n",
       "      <td>No issues.</td>\n",
       "      <td>2014-07-23</td>\n",
       "      <td>138</td>\n",
       "      <td>0</td>\n",
       "      <td>0</td>\n",
       "      <td>0</td>\n",
       "      <td>0</td>\n",
       "      <td>0.0</td>\n",
       "      <td>0.0</td>\n",
       "    </tr>\n",
       "    <tr>\n",
       "      <th>1</th>\n",
       "      <td>1</td>\n",
       "      <td>0mie</td>\n",
       "      <td>5.0</td>\n",
       "      <td>Purchased this for my device, it worked as adv...</td>\n",
       "      <td>2013-10-25</td>\n",
       "      <td>409</td>\n",
       "      <td>0</td>\n",
       "      <td>0</td>\n",
       "      <td>0</td>\n",
       "      <td>0</td>\n",
       "      <td>0.0</td>\n",
       "      <td>0.0</td>\n",
       "    </tr>\n",
       "    <tr>\n",
       "      <th>2</th>\n",
       "      <td>2</td>\n",
       "      <td>1K3</td>\n",
       "      <td>4.0</td>\n",
       "      <td>it works as expected. I should have sprung for...</td>\n",
       "      <td>2012-12-23</td>\n",
       "      <td>715</td>\n",
       "      <td>0</td>\n",
       "      <td>0</td>\n",
       "      <td>0</td>\n",
       "      <td>0</td>\n",
       "      <td>0.0</td>\n",
       "      <td>0.0</td>\n",
       "    </tr>\n",
       "    <tr>\n",
       "      <th>3</th>\n",
       "      <td>3</td>\n",
       "      <td>1m2</td>\n",
       "      <td>5.0</td>\n",
       "      <td>This think has worked out great.Had a diff. br...</td>\n",
       "      <td>2013-11-21</td>\n",
       "      <td>382</td>\n",
       "      <td>0</td>\n",
       "      <td>0</td>\n",
       "      <td>0</td>\n",
       "      <td>0</td>\n",
       "      <td>0.0</td>\n",
       "      <td>0.0</td>\n",
       "    </tr>\n",
       "    <tr>\n",
       "      <th>4</th>\n",
       "      <td>4</td>\n",
       "      <td>2&amp;amp;1/2Men</td>\n",
       "      <td>5.0</td>\n",
       "      <td>Bought it with Retail Packaging, arrived legit...</td>\n",
       "      <td>2013-07-13</td>\n",
       "      <td>513</td>\n",
       "      <td>0</td>\n",
       "      <td>0</td>\n",
       "      <td>0</td>\n",
       "      <td>0</td>\n",
       "      <td>0.0</td>\n",
       "      <td>0.0</td>\n",
       "    </tr>\n",
       "  </tbody>\n",
       "</table>\n",
       "</div>"
      ],
      "text/plain": [
       "   Unnamed: 0  reviewerName  overall  \\\n",
       "0           0           NaN      4.0   \n",
       "1           1          0mie      5.0   \n",
       "2           2           1K3      4.0   \n",
       "3           3           1m2      5.0   \n",
       "4           4  2&amp;1/2Men      5.0   \n",
       "\n",
       "                                          reviewText  reviewTime  day_diff  \\\n",
       "0                                         No issues.  2014-07-23       138   \n",
       "1  Purchased this for my device, it worked as adv...  2013-10-25       409   \n",
       "2  it works as expected. I should have sprung for...  2012-12-23       715   \n",
       "3  This think has worked out great.Had a diff. br...  2013-11-21       382   \n",
       "4  Bought it with Retail Packaging, arrived legit...  2013-07-13       513   \n",
       "\n",
       "   helpful_yes  helpful_no  total_vote  score_pos_neg_diff  \\\n",
       "0            0           0           0                   0   \n",
       "1            0           0           0                   0   \n",
       "2            0           0           0                   0   \n",
       "3            0           0           0                   0   \n",
       "4            0           0           0                   0   \n",
       "\n",
       "   score_average_rating  wilson_lower_bound  \n",
       "0                   0.0                 0.0  \n",
       "1                   0.0                 0.0  \n",
       "2                   0.0                 0.0  \n",
       "3                   0.0                 0.0  \n",
       "4                   0.0                 0.0  "
      ]
     },
     "execution_count": 4,
     "metadata": {},
     "output_type": "execute_result"
    }
   ],
   "source": [
    "df.head()"
   ]
  },
  {
   "cell_type": "code",
   "execution_count": 5,
   "metadata": {},
   "outputs": [],
   "source": [
    "# Keep only reviewText column\n",
    "df = df[['reviewText']]"
   ]
  },
  {
   "cell_type": "code",
   "execution_count": 6,
   "metadata": {},
   "outputs": [
    {
     "data": {
      "text/html": [
       "<div>\n",
       "<style scoped>\n",
       "    .dataframe tbody tr th:only-of-type {\n",
       "        vertical-align: middle;\n",
       "    }\n",
       "\n",
       "    .dataframe tbody tr th {\n",
       "        vertical-align: top;\n",
       "    }\n",
       "\n",
       "    .dataframe thead th {\n",
       "        text-align: right;\n",
       "    }\n",
       "</style>\n",
       "<table border=\"1\" class=\"dataframe\">\n",
       "  <thead>\n",
       "    <tr style=\"text-align: right;\">\n",
       "      <th></th>\n",
       "      <th>reviewText</th>\n",
       "    </tr>\n",
       "  </thead>\n",
       "  <tbody>\n",
       "    <tr>\n",
       "      <th>0</th>\n",
       "      <td>No issues.</td>\n",
       "    </tr>\n",
       "    <tr>\n",
       "      <th>1</th>\n",
       "      <td>Purchased this for my device, it worked as adv...</td>\n",
       "    </tr>\n",
       "    <tr>\n",
       "      <th>2</th>\n",
       "      <td>it works as expected. I should have sprung for...</td>\n",
       "    </tr>\n",
       "    <tr>\n",
       "      <th>3</th>\n",
       "      <td>This think has worked out great.Had a diff. br...</td>\n",
       "    </tr>\n",
       "    <tr>\n",
       "      <th>4</th>\n",
       "      <td>Bought it with Retail Packaging, arrived legit...</td>\n",
       "    </tr>\n",
       "  </tbody>\n",
       "</table>\n",
       "</div>"
      ],
      "text/plain": [
       "                                          reviewText\n",
       "0                                         No issues.\n",
       "1  Purchased this for my device, it worked as adv...\n",
       "2  it works as expected. I should have sprung for...\n",
       "3  This think has worked out great.Had a diff. br...\n",
       "4  Bought it with Retail Packaging, arrived legit..."
      ]
     },
     "execution_count": 6,
     "metadata": {},
     "output_type": "execute_result"
    }
   ],
   "source": [
    "df.head()"
   ]
  },
  {
   "cell_type": "code",
   "execution_count": 7,
   "metadata": {},
   "outputs": [],
   "source": [
    "def process(text: str):\n",
    "    text = text.strip()\n",
    "    text = re.sub(r'\\s+', ' ', text)  # Remove extra spaces\n",
    "    text = re.sub(r'[\\/|-|>|<|=|\\(|\\)|\\{|\\}|\\[\\]]+', '', text) # Eliminate slash and hyphen and other chars\n",
    "    text = re.sub(r'[0-9]+(gb|GB|Gb)', '', text)\n",
    "    text = re.sub(r'[0-9]+', '', text)\n",
    "    text = re.sub(r'[0-9]{1,2}\\/[0-9]{1,2}\\/[0-9]{2}', '', text)  # Remove dates\n",
    "    \n",
    "    if not text.endswith('.'):\n",
    "        text += '.'  # Add a period to the end of the sentence if it doesn't have one\n",
    "    text += \" \"\n",
    "    return text\n",
    "\n",
    "# Apply the function to each item in the column and then concatenate the results\n",
    "running_string = \"\".join(df['reviewText'].apply(lambda x: process(str(x))))"
   ]
  },
  {
   "cell_type": "code",
   "execution_count": 8,
   "metadata": {},
   "outputs": [],
   "source": [
    "sentences = sent_tokenize(running_string)"
   ]
  },
  {
   "cell_type": "code",
   "execution_count": 9,
   "metadata": {},
   "outputs": [],
   "source": [
    "sentences = sentences[:9000]"
   ]
  },
  {
   "cell_type": "code",
   "execution_count": 10,
   "metadata": {},
   "outputs": [
    {
     "data": {
      "text/plain": [
       "['No issues.',\n",
       " 'Purchased this for my device, it worked as advertised.',\n",
       " 'You can never have too much phone memory, since I download a lot of stuff this was a no brainer for me.',\n",
       " 'it works as expected.',\n",
       " 'I should have sprung for the higher capacity.',\n",
       " 'I think its made a bit cheesier than the earlier versions; the paint looks not as clean as before.',\n",
       " 'This think has worked out great.Had a diff.',\n",
       " 'bran  card and if went south after  months.This one has held up pretty well since I had my S, now on my Note.',\n",
       " \"*** update I've had this for a few months and have had ZERO issue's since it was transferred from my S to my Note and into a note.\",\n",
       " 'This card is reliable and solid!Cheers!.']"
      ]
     },
     "execution_count": 10,
     "metadata": {},
     "output_type": "execute_result"
    }
   ],
   "source": [
    "sentences[:10]"
   ]
  },
  {
   "cell_type": "code",
   "execution_count": 11,
   "metadata": {},
   "outputs": [
    {
     "data": {
      "text/plain": [
       "['This item is great!',\n",
       " \"I can't believe how small it is.\",\n",
       " \"Imagine  this size back in the 's when they had whole buildings full of computers that couldn't pack this much space!\",\n",
       " 'Great item.',\n",
       " \"I've been trying for a while to get a hold of a  Micro SD for my phone and tablet.\",\n",
       " \"It's pretty fast compared to the  cards I've been using.\",\n",
       " 'I really saw the performance boost with my phone, which I have many apps, pictures, music, and other documents on.',\n",
       " 'The phone boots fully stable in about  mins as apposed to - mins.',\n",
       " 'My computer also can write to these cards much faster than the  ones I was using.',\n",
       " 'If you phone, tablet or any other device can support it I recommend you purchase these.']"
      ]
     },
     "execution_count": 11,
     "metadata": {},
     "output_type": "execute_result"
    }
   ],
   "source": [
    "sentences[100:110]"
   ]
  },
  {
   "cell_type": "code",
   "execution_count": 12,
   "metadata": {},
   "outputs": [],
   "source": [
    "tokenized_sentences = [word_tokenize(sentence) for sentence in sentences]"
   ]
  },
  {
   "cell_type": "code",
   "execution_count": 13,
   "metadata": {},
   "outputs": [],
   "source": [
    "all_words = [word.strip() for sentence in tokenized_sentences for word in sentence]\n",
    "vocabulary = set(all_words)"
   ]
  },
  {
   "cell_type": "code",
   "execution_count": 14,
   "metadata": {},
   "outputs": [
    {
     "data": {
      "text/plain": [
       "['for',\n",
       " 'a',\n",
       " 'few',\n",
       " 'months',\n",
       " 'and',\n",
       " 'have',\n",
       " 'had',\n",
       " 'ZERO',\n",
       " 'issue',\n",
       " \"'s\",\n",
       " 'since',\n",
       " 'it',\n",
       " 'was',\n",
       " 'transferred',\n",
       " 'from',\n",
       " 'my',\n",
       " 'S',\n",
       " 'to',\n",
       " 'my',\n",
       " 'Note']"
      ]
     },
     "execution_count": 14,
     "metadata": {},
     "output_type": "execute_result"
    }
   ],
   "source": [
    "all_words[115:135]"
   ]
  },
  {
   "cell_type": "code",
   "execution_count": 15,
   "metadata": {},
   "outputs": [
    {
     "data": {
      "text/plain": [
       "8198"
      ]
     },
     "execution_count": 15,
     "metadata": {},
     "output_type": "execute_result"
    }
   ],
   "source": [
    "len(vocabulary)"
   ]
  },
  {
   "cell_type": "code",
   "execution_count": 16,
   "metadata": {},
   "outputs": [],
   "source": [
    "# Using a list comprehension, we can loop through each (idx, word) pair from enumerate\n",
    "# Each pair holds the key and value we want in our word_to_idx dict\n",
    "# We start the enumeration from 1, not 0, because want 0 to represent the padding token\n",
    "word_to_idx = {word.strip() : idx for idx, word in enumerate(vocabulary, 1)}\n",
    "# Let's also create a idx_to_word dict so we can interpet the results of the model later\n",
    "idx_to_word = {idx : word.strip() for word, idx in word_to_idx.items()}\n",
    "vocab_size = len(vocabulary) + 1"
   ]
  },
  {
   "cell_type": "code",
   "execution_count": 17,
   "metadata": {},
   "outputs": [],
   "source": [
    "import pickle\n",
    "with open('amzn_word_to_idx.pkl', 'wb') as f:  # open a text file\n",
    "    pickle.dump(word_to_idx, f)\n",
    "with open('amzn_idx_to_word.pkl', 'wb') as f:\n",
    "    pickle.dump(idx_to_word, f)"
   ]
  },
  {
   "cell_type": "code",
   "execution_count": 18,
   "metadata": {},
   "outputs": [],
   "source": [
    "input_sequences = []\n",
    "for sentence in tokenized_sentences:\n",
    "  # Convert the sentence to its numerical representation with the word_to_idx mapping\n",
    "  numerized_sentence = [word_to_idx[word.strip()] for word in sentence]\n",
    "  # Create ngrams from size 2 to the size of the sentence\n",
    "  for i in range(2, len(sentence) + 1):\n",
    "    ngram = numerized_sentence[:i]\n",
    "    input_sequences.append(ngram)"
   ]
  },
  {
   "cell_type": "code",
   "execution_count": 19,
   "metadata": {},
   "outputs": [],
   "source": [
    "from tensorflow.keras.utils import to_categorical\n",
    "from tensorflow.keras.preprocessing.sequence import pad_sequences"
   ]
  },
  {
   "cell_type": "code",
   "execution_count": 20,
   "metadata": {},
   "outputs": [],
   "source": [
    "# Now, let's pad the sequences so they are all the same length\n",
    "max_sequence_len = max([len(seq) for seq in input_sequences])\n",
    "# pad_sequences adds 0s to the beginning of each array until size(vector) = max_sequence_len\n",
    "# This is why we started our enumeration from 1, not 0, because 0 represents the padding token\n",
    "# We use pre padding because padding at the end would cause us to lose the location of the label\n",
    "input_sequences = pad_sequences(input_sequences, maxlen=max_sequence_len, padding='pre')"
   ]
  },
  {
   "cell_type": "code",
   "execution_count": 21,
   "metadata": {},
   "outputs": [],
   "source": [
    "X = [sequence[:-1] for sequence in input_sequences]\n",
    "y = [sequence[-1] for sequence in input_sequences]"
   ]
  },
  {
   "cell_type": "code",
   "execution_count": 22,
   "metadata": {},
   "outputs": [],
   "source": [
    "def pretty_display(vec: list[int], idx_to_word: dict):\n",
    "    print(\" \".join([idx_to_word[idx] if idx else '' for idx in vec]).strip())\n",
    "\n",
    "def pretty_display_all(vecs: list[list[int]], idx_to_word: dict):\n",
    "    for vec in vecs:\n",
    "        pretty_display(vec, idx_to_word)\n",
    "\n",
    "def pretty_display_one(idx: int, idx_to_word: dict):\n",
    "    print(idx_to_word[idx])"
   ]
  },
  {
   "cell_type": "code",
   "execution_count": 23,
   "metadata": {},
   "outputs": [
    {
     "name": "stdout",
     "output_type": "stream",
     "text": [
      "I would not hesitate to buy\n"
     ]
    }
   ],
   "source": [
    "pretty_display(X[1003], idx_to_word)"
   ]
  },
  {
   "cell_type": "code",
   "execution_count": 24,
   "metadata": {},
   "outputs": [
    {
     "name": "stdout",
     "output_type": "stream",
     "text": [
      "another one of these great\n"
     ]
    }
   ],
   "source": [
    "pretty_display(y[1003:1008], idx_to_word)"
   ]
  },
  {
   "cell_type": "code",
   "execution_count": 25,
   "metadata": {},
   "outputs": [],
   "source": [
    "y = to_categorical(y, num_classes=vocab_size)"
   ]
  },
  {
   "cell_type": "code",
   "execution_count": 26,
   "metadata": {},
   "outputs": [],
   "source": [
    "import numpy as np"
   ]
  },
  {
   "cell_type": "code",
   "execution_count": 27,
   "metadata": {},
   "outputs": [
    {
     "data": {
      "text/plain": [
       "(140881, 198)"
      ]
     },
     "execution_count": 27,
     "metadata": {},
     "output_type": "execute_result"
    }
   ],
   "source": [
    "arr_x = np.array(X)\n",
    "arr_x.shape"
   ]
  },
  {
   "cell_type": "code",
   "execution_count": 28,
   "metadata": {},
   "outputs": [],
   "source": [
    "# arr_y = np.array(y)\n",
    "# arr_y.shape"
   ]
  },
  {
   "cell_type": "markdown",
   "metadata": {},
   "source": [
    "# Building the Model"
   ]
  },
  {
   "cell_type": "code",
   "execution_count": 29,
   "metadata": {},
   "outputs": [],
   "source": [
    "from tensorflow.keras.callbacks import EarlyStopping\n",
    "from tensorflow.keras.models import Sequential\n",
    "from tensorflow.keras.layers import Embedding, GRU, Dense, Dropout, BatchNormalization, SpatialDropout1D, GaussianNoise\n",
    "from tensorflow.keras.regularizers import l2\n",
    "from tensorflow.keras.optimizers import Adam"
   ]
  },
  {
   "cell_type": "code",
   "execution_count": 30,
   "metadata": {},
   "outputs": [
    {
     "name": "stdout",
     "output_type": "stream",
     "text": [
      "WARNING:tensorflow:Layer gru will not use cuDNN kernels since it doesn't meet the criteria. It will use a generic GPU kernel as fallback when running on GPU.\n"
     ]
    },
    {
     "name": "stderr",
     "output_type": "stream",
     "text": [
      "2023-11-15 13:24:35.001968: I tensorflow/core/platform/cpu_feature_guard.cc:151] This TensorFlow binary is optimized with oneAPI Deep Neural Network Library (oneDNN) to use the following CPU instructions in performance-critical operations:  AVX2 AVX512F FMA\n",
      "To enable them in other operations, rebuild TensorFlow with the appropriate compiler flags.\n",
      "2023-11-15 13:24:35.759685: I tensorflow/core/common_runtime/gpu/gpu_device.cc:1525] Created device /job:localhost/replica:0/task:0/device:GPU:0 with 14623 MB memory:  -> device: 0, name: Tesla V100-PCIE-16GB, pci bus id: 0000:3b:00.0, compute capability: 7.0\n"
     ]
    }
   ],
   "source": [
    "# Building the RNN model\n",
    "model = Sequential()\n",
    "\n",
    "# Embedding layer\n",
    "model.add(Embedding(vocab_size, 50, input_length=max_sequence_len-1))  # Increased embedding dimensions\n",
    "# model.add(SpatialDropout1D(0.15))\n",
    "# model.add(GaussianNoise(0.1))\n",
    "\n",
    "# RNN 1\n",
    "model.add((GRU(100, dropout=0.1, recurrent_dropout=0.1)))  # Increased units, added dropout\n",
    "# model.add(BatchNormalization())\n",
    "\n",
    "# Final Layer\n",
    "model.add(Dense(vocab_size, activation='softmax'))"
   ]
  },
  {
   "cell_type": "code",
   "execution_count": 31,
   "metadata": {},
   "outputs": [
    {
     "name": "stdout",
     "output_type": "stream",
     "text": [
      "Model: \"sequential\"\n",
      "_________________________________________________________________\n",
      " Layer (type)                Output Shape              Param #   \n",
      "=================================================================\n",
      " embedding (Embedding)       (None, 198, 50)           409950    \n",
      "                                                                 \n",
      " gru (GRU)                   (None, 100)               45600     \n",
      "                                                                 \n",
      " dense (Dense)               (None, 8199)              828099    \n",
      "                                                                 \n",
      "=================================================================\n",
      "Total params: 1,283,649\n",
      "Trainable params: 1,283,649\n",
      "Non-trainable params: 0\n",
      "_________________________________________________________________\n"
     ]
    }
   ],
   "source": [
    "model.compile(optimizer=Adam(learning_rate=0.001, clipnorm=1.0), loss='categorical_crossentropy', metrics=['accuracy'])\n",
    "model.summary()"
   ]
  },
  {
   "cell_type": "code",
   "execution_count": 32,
   "metadata": {},
   "outputs": [],
   "source": [
    "# Stop the model early\n",
    "early_stop = EarlyStopping(monitor='loss', patience=12, verbose=1, restore_best_weights=True)"
   ]
  },
  {
   "cell_type": "code",
   "execution_count": 33,
   "metadata": {},
   "outputs": [],
   "source": [
    "from tensorflow import convert_to_tensor"
   ]
  },
  {
   "cell_type": "code",
   "execution_count": 34,
   "metadata": {},
   "outputs": [],
   "source": [
    "X = convert_to_tensor(arr_x)\n",
    "y = convert_to_tensor(y)"
   ]
  },
  {
   "cell_type": "code",
   "execution_count": 35,
   "metadata": {},
   "outputs": [
    {
     "name": "stdout",
     "output_type": "stream",
     "text": [
      "Epoch 1/100\n",
      "1761/1761 [==============================] - 427s 241ms/step - loss: 5.8765 - accuracy: 0.0933 - val_loss: 5.2756 - val_accuracy: 0.1421\n",
      "Epoch 2/100\n",
      "1761/1761 [==============================] - 422s 240ms/step - loss: 4.9935 - accuracy: 0.1619 - val_loss: 4.9721 - val_accuracy: 0.1776\n",
      "Epoch 3/100\n",
      "1761/1761 [==============================] - 424s 241ms/step - loss: 4.6272 - accuracy: 0.1893 - val_loss: 4.8770 - val_accuracy: 0.1885\n",
      "Epoch 4/100\n",
      "1761/1761 [==============================] - 423s 240ms/step - loss: 4.3736 - accuracy: 0.2077 - val_loss: 4.8305 - val_accuracy: 0.1975\n",
      "Epoch 5/100\n",
      "1761/1761 [==============================] - 422s 240ms/step - loss: 4.1724 - accuracy: 0.2213 - val_loss: 4.8275 - val_accuracy: 0.2032\n",
      "Epoch 6/100\n",
      "1761/1761 [==============================] - 424s 241ms/step - loss: 4.0088 - accuracy: 0.2321 - val_loss: 4.8427 - val_accuracy: 0.2078\n",
      "Epoch 7/100\n",
      "1761/1761 [==============================] - 426s 242ms/step - loss: 3.8669 - accuracy: 0.2441 - val_loss: 4.8492 - val_accuracy: 0.2108\n",
      "Epoch 8/100\n",
      "1761/1761 [==============================] - 429s 244ms/step - loss: 3.7440 - accuracy: 0.2530 - val_loss: 4.8813 - val_accuracy: 0.2095\n",
      "Epoch 9/100\n",
      "1761/1761 [==============================] - 429s 244ms/step - loss: 3.6381 - accuracy: 0.2645 - val_loss: 4.8963 - val_accuracy: 0.2140\n",
      "Epoch 10/100\n",
      "1761/1761 [==============================] - 425s 241ms/step - loss: 3.5397 - accuracy: 0.2742 - val_loss: 4.9206 - val_accuracy: 0.2139\n",
      "Epoch 11/100\n",
      "1761/1761 [==============================] - 429s 244ms/step - loss: 3.4496 - accuracy: 0.2843 - val_loss: 4.9482 - val_accuracy: 0.2132\n",
      "Epoch 12/100\n",
      "1761/1761 [==============================] - 429s 244ms/step - loss: 3.3720 - accuracy: 0.2940 - val_loss: 4.9719 - val_accuracy: 0.2123\n",
      "Epoch 13/100\n",
      "1761/1761 [==============================] - 429s 244ms/step - loss: 3.3035 - accuracy: 0.3001 - val_loss: 4.9976 - val_accuracy: 0.2119\n",
      "Epoch 14/100\n",
      "1761/1761 [==============================] - 428s 243ms/step - loss: 3.2379 - accuracy: 0.3101 - val_loss: 5.0201 - val_accuracy: 0.2108\n",
      "Epoch 15/100\n",
      "1761/1761 [==============================] - 428s 243ms/step - loss: 3.1774 - accuracy: 0.3182 - val_loss: 5.0473 - val_accuracy: 0.2124\n",
      "Epoch 16/100\n",
      "1761/1761 [==============================] - 426s 242ms/step - loss: 3.1242 - accuracy: 0.3245 - val_loss: 5.0654 - val_accuracy: 0.2096\n",
      "Epoch 17/100\n",
      "1761/1761 [==============================] - 426s 242ms/step - loss: 3.0763 - accuracy: 0.3321 - val_loss: 5.0868 - val_accuracy: 0.2096\n",
      "Epoch 18/100\n",
      "1761/1761 [==============================] - 427s 243ms/step - loss: 3.0329 - accuracy: 0.3391 - val_loss: 5.1167 - val_accuracy: 0.2069\n",
      "Epoch 19/100\n",
      "1761/1761 [==============================] - 427s 243ms/step - loss: 2.9896 - accuracy: 0.3436 - val_loss: 5.1315 - val_accuracy: 0.2100\n",
      "Epoch 20/100\n",
      "1761/1761 [==============================] - 428s 243ms/step - loss: 2.9479 - accuracy: 0.3510 - val_loss: 5.1635 - val_accuracy: 0.2130\n",
      "Epoch 21/100\n",
      "1761/1761 [==============================] - 428s 243ms/step - loss: 2.9153 - accuracy: 0.3544 - val_loss: 5.1785 - val_accuracy: 0.2076\n",
      "Epoch 22/100\n",
      "1761/1761 [==============================] - 429s 244ms/step - loss: 2.8823 - accuracy: 0.3609 - val_loss: 5.1988 - val_accuracy: 0.2065\n",
      "Epoch 23/100\n",
      "  20/1761 [..............................] - ETA: 6:41 - loss: 2.7043 - accuracy: 0.4031"
     ]
    },
    {
     "name": "stderr",
     "output_type": "stream",
     "text": [
      "IOPub message rate exceeded.\n",
      "The notebook server will temporarily stop sending output\n",
      "to the client in order to avoid crashing it.\n",
      "To change this limit, set the config variable\n",
      "`--NotebookApp.iopub_msg_rate_limit`.\n",
      "\n",
      "Current values:\n",
      "NotebookApp.iopub_msg_rate_limit=1000.0 (msgs/sec)\n",
      "NotebookApp.rate_limit_window=3.0 (secs)\n",
      "\n"
     ]
    },
    {
     "name": "stdout",
     "output_type": "stream",
     "text": [
      "1761/1761 [==============================] - 428s 243ms/step - loss: 2.6990 - accuracy: 0.3867 - val_loss: 5.3373 - val_accuracy: 0.2033\n",
      "Epoch 30/100\n",
      "1516/1761 [========================>.....] - ETA: 56s - loss: 2.6645 - accuracy: 0.3921"
     ]
    },
    {
     "name": "stderr",
     "output_type": "stream",
     "text": [
      "IOPub message rate exceeded.\n",
      "The notebook server will temporarily stop sending output\n",
      "to the client in order to avoid crashing it.\n",
      "To change this limit, set the config variable\n",
      "`--NotebookApp.iopub_msg_rate_limit`.\n",
      "\n",
      "Current values:\n",
      "NotebookApp.iopub_msg_rate_limit=1000.0 (msgs/sec)\n",
      "NotebookApp.rate_limit_window=3.0 (secs)\n",
      "\n"
     ]
    },
    {
     "name": "stdout",
     "output_type": "stream",
     "text": [
      "1761/1761 [==============================] - 429s 243ms/step - loss: 2.5613 - accuracy: 0.4077 - val_loss: 5.4718 - val_accuracy: 0.2016\n",
      "Epoch 38/100\n",
      "1239/1761 [====================>.........] - ETA: 2:00 - loss: 2.5170 - accuracy: 0.4158"
     ]
    },
    {
     "name": "stderr",
     "output_type": "stream",
     "text": [
      "IOPub message rate exceeded.\n",
      "The notebook server will temporarily stop sending output\n",
      "to the client in order to avoid crashing it.\n",
      "To change this limit, set the config variable\n",
      "`--NotebookApp.iopub_msg_rate_limit`.\n",
      "\n",
      "Current values:\n",
      "NotebookApp.iopub_msg_rate_limit=1000.0 (msgs/sec)\n",
      "NotebookApp.rate_limit_window=3.0 (secs)\n",
      "\n"
     ]
    },
    {
     "name": "stdout",
     "output_type": "stream",
     "text": [
      "1761/1761 [==============================] - 428s 243ms/step - loss: 2.4706 - accuracy: 0.4234 - val_loss: 5.5704 - val_accuracy: 0.2001\n",
      "Epoch 45/100\n",
      "1761/1761 [==============================] - 428s 243ms/step - loss: 2.4606 - accuracy: 0.4243 - val_loss: 5.5840 - val_accuracy: 0.1995\n",
      "Epoch 46/100\n",
      " 965/1761 [===============>..............] - ETA: 3:02 - loss: 2.4035 - accuracy: 0.4344"
     ]
    },
    {
     "name": "stderr",
     "output_type": "stream",
     "text": [
      "IOPub message rate exceeded.\n",
      "The notebook server will temporarily stop sending output\n",
      "to the client in order to avoid crashing it.\n",
      "To change this limit, set the config variable\n",
      "`--NotebookApp.iopub_msg_rate_limit`.\n",
      "\n",
      "Current values:\n",
      "NotebookApp.iopub_msg_rate_limit=1000.0 (msgs/sec)\n",
      "NotebookApp.rate_limit_window=3.0 (secs)\n",
      "\n"
     ]
    },
    {
     "name": "stdout",
     "output_type": "stream",
     "text": [
      "1761/1761 [==============================] - 428s 243ms/step - loss: 2.4396 - accuracy: 0.4268 - val_loss: 5.6112 - val_accuracy: 0.2007\n",
      "Epoch 48/100\n",
      "1761/1761 [==============================] - 426s 242ms/step - loss: 2.4280 - accuracy: 0.4291 - val_loss: 5.6258 - val_accuracy: 0.2017\n",
      "Epoch 49/100\n",
      "1761/1761 [==============================] - 428s 243ms/step - loss: 2.4210 - accuracy: 0.4315 - val_loss: 5.6328 - val_accuracy: 0.1998\n",
      "Epoch 50/100\n",
      "1761/1761 [==============================] - 424s 241ms/step - loss: 2.4114 - accuracy: 0.4321 - val_loss: 5.6446 - val_accuracy: 0.1996\n",
      "Epoch 51/100\n",
      "1761/1761 [==============================] - 427s 242ms/step - loss: 2.4005 - accuracy: 0.4341 - val_loss: 5.6567 - val_accuracy: 0.1978\n",
      "Epoch 52/100\n",
      "1761/1761 [==============================] - 429s 243ms/step - loss: 2.3901 - accuracy: 0.4354 - val_loss: 5.6710 - val_accuracy: 0.1976\n",
      "Epoch 53/100\n",
      "1761/1761 [==============================] - 427s 243ms/step - loss: 2.3839 - accuracy: 0.4347 - val_loss: 5.6777 - val_accuracy: 0.1966\n",
      "Epoch 54/100\n",
      "1761/1761 [==============================] - 428s 243ms/step - loss: 2.3755 - accuracy: 0.4381 - val_loss: 5.6893 - val_accuracy: 0.1975\n",
      "Epoch 55/100\n",
      "1761/1761 [==============================] - 428s 243ms/step - loss: 2.3665 - accuracy: 0.4387 - val_loss: 5.6915 - val_accuracy: 0.1976\n",
      "Epoch 56/100\n",
      "1761/1761 [==============================] - 427s 243ms/step - loss: 2.3592 - accuracy: 0.4405 - val_loss: 5.7082 - val_accuracy: 0.1960\n",
      "Epoch 57/100\n",
      "1761/1761 [==============================] - 428s 243ms/step - loss: 2.3517 - accuracy: 0.4415 - val_loss: 5.7325 - val_accuracy: 0.1970\n",
      "Epoch 58/100\n",
      "1761/1761 [==============================] - 429s 244ms/step - loss: 2.3461 - accuracy: 0.4421 - val_loss: 5.7290 - val_accuracy: 0.1996\n",
      "Epoch 59/100\n",
      "1761/1761 [==============================] - 426s 242ms/step - loss: 2.3341 - accuracy: 0.4436 - val_loss: 5.7477 - val_accuracy: 0.1976\n",
      "Epoch 60/100\n",
      "1761/1761 [==============================] - 429s 244ms/step - loss: 2.3324 - accuracy: 0.4446 - val_loss: 5.7564 - val_accuracy: 0.1959\n",
      "Epoch 61/100\n",
      "1761/1761 [==============================] - 427s 242ms/step - loss: 2.3229 - accuracy: 0.4466 - val_loss: 5.7573 - val_accuracy: 0.1950\n",
      "Epoch 62/100\n",
      "1761/1761 [==============================] - 423s 240ms/step - loss: 2.3162 - accuracy: 0.4474 - val_loss: 5.7731 - val_accuracy: 0.1946\n",
      "Epoch 63/100\n",
      "1761/1761 [==============================] - 428s 243ms/step - loss: 2.3071 - accuracy: 0.4483 - val_loss: 5.7827 - val_accuracy: 0.1942\n",
      "Epoch 64/100\n",
      "1761/1761 [==============================] - 429s 244ms/step - loss: 2.3021 - accuracy: 0.4495 - val_loss: 5.7881 - val_accuracy: 0.1951\n",
      "Epoch 65/100\n",
      "1761/1761 [==============================] - 428s 243ms/step - loss: 2.2944 - accuracy: 0.4522 - val_loss: 5.8105 - val_accuracy: 0.1955\n",
      "Epoch 66/100\n",
      "1761/1761 [==============================] - 426s 242ms/step - loss: 2.2879 - accuracy: 0.4517 - val_loss: 5.8189 - val_accuracy: 0.1968\n",
      "Epoch 67/100\n",
      "1761/1761 [==============================] - 426s 242ms/step - loss: 2.2856 - accuracy: 0.4518 - val_loss: 5.8258 - val_accuracy: 0.1914\n",
      "Epoch 68/100\n",
      "1761/1761 [==============================] - 429s 244ms/step - loss: 2.2797 - accuracy: 0.4534 - val_loss: 5.8316 - val_accuracy: 0.1927\n",
      "Epoch 69/100\n",
      "1761/1761 [==============================] - 428s 243ms/step - loss: 2.2722 - accuracy: 0.4534 - val_loss: 5.8369 - val_accuracy: 0.1959\n",
      "Epoch 70/100\n",
      "1761/1761 [==============================] - 428s 243ms/step - loss: 2.2673 - accuracy: 0.4535 - val_loss: 5.8599 - val_accuracy: 0.1940\n",
      "Epoch 71/100\n",
      "1761/1761 [==============================] - 427s 243ms/step - loss: 2.2612 - accuracy: 0.4567 - val_loss: 5.8680 - val_accuracy: 0.1964\n",
      "Epoch 72/100\n",
      "1761/1761 [==============================] - 428s 243ms/step - loss: 2.2553 - accuracy: 0.4574 - val_loss: 5.8640 - val_accuracy: 0.1947\n",
      "Epoch 73/100\n",
      "1761/1761 [==============================] - 429s 244ms/step - loss: 2.2508 - accuracy: 0.4593 - val_loss: 5.8791 - val_accuracy: 0.1959\n",
      "Epoch 74/100\n",
      "1761/1761 [==============================] - 427s 243ms/step - loss: 2.2450 - accuracy: 0.4585 - val_loss: 5.8824 - val_accuracy: 0.1966\n",
      "Epoch 75/100\n",
      "1761/1761 [==============================] - 429s 243ms/step - loss: 2.2389 - accuracy: 0.4590 - val_loss: 5.8951 - val_accuracy: 0.1938\n",
      "Epoch 76/100\n",
      "1761/1761 [==============================] - 428s 243ms/step - loss: 2.2343 - accuracy: 0.4601 - val_loss: 5.8959 - val_accuracy: 0.1938\n",
      "Epoch 77/100\n",
      "1761/1761 [==============================] - 429s 244ms/step - loss: 2.2326 - accuracy: 0.4611 - val_loss: 5.9043 - val_accuracy: 0.1941\n",
      "Epoch 78/100\n",
      "1761/1761 [==============================] - 426s 242ms/step - loss: 2.2258 - accuracy: 0.4623 - val_loss: 5.9206 - val_accuracy: 0.1945\n",
      "Epoch 79/100\n",
      "1761/1761 [==============================] - 425s 241ms/step - loss: 2.2179 - accuracy: 0.4640 - val_loss: 5.9269 - val_accuracy: 0.1937\n",
      "Epoch 80/100\n",
      "1761/1761 [==============================] - 428s 243ms/step - loss: 2.2151 - accuracy: 0.4632 - val_loss: 5.9319 - val_accuracy: 0.1958\n",
      "Epoch 81/100\n",
      "1761/1761 [==============================] - 427s 242ms/step - loss: 2.2111 - accuracy: 0.4650 - val_loss: 5.9396 - val_accuracy: 0.1945\n",
      "Epoch 82/100\n",
      "1761/1761 [==============================] - 427s 242ms/step - loss: 2.2085 - accuracy: 0.4648 - val_loss: 5.9434 - val_accuracy: 0.1918\n",
      "Epoch 83/100\n",
      "1761/1761 [==============================] - 426s 242ms/step - loss: 2.2007 - accuracy: 0.4661 - val_loss: 5.9570 - val_accuracy: 0.1942\n",
      "Epoch 84/100\n",
      "1761/1761 [==============================] - 428s 243ms/step - loss: 2.2008 - accuracy: 0.4656 - val_loss: 5.9651 - val_accuracy: 0.1963\n",
      "Epoch 85/100\n",
      "1761/1761 [==============================] - 426s 242ms/step - loss: 2.1959 - accuracy: 0.4676 - val_loss: 5.9582 - val_accuracy: 0.1935\n",
      "Epoch 86/100\n",
      "1761/1761 [==============================] - 429s 243ms/step - loss: 2.1889 - accuracy: 0.4688 - val_loss: 5.9677 - val_accuracy: 0.1943\n",
      "Epoch 87/100\n",
      "1761/1761 [==============================] - 428s 243ms/step - loss: 2.1847 - accuracy: 0.4689 - val_loss: 5.9823 - val_accuracy: 0.1898\n",
      "Epoch 88/100\n",
      "1761/1761 [==============================] - 428s 243ms/step - loss: 2.1812 - accuracy: 0.4684 - val_loss: 5.9829 - val_accuracy: 0.1937\n",
      "Epoch 89/100\n",
      "1761/1761 [==============================] - 429s 244ms/step - loss: 2.1782 - accuracy: 0.4694 - val_loss: 6.0087 - val_accuracy: 0.1939\n",
      "Epoch 90/100\n",
      "1761/1761 [==============================] - 426s 242ms/step - loss: 2.1743 - accuracy: 0.4706 - val_loss: 6.0101 - val_accuracy: 0.1914\n",
      "Epoch 91/100\n",
      "1761/1761 [==============================] - 427s 243ms/step - loss: 2.1727 - accuracy: 0.4701 - val_loss: 6.0121 - val_accuracy: 0.1938\n",
      "Epoch 92/100\n",
      "1761/1761 [==============================] - 427s 242ms/step - loss: 2.1692 - accuracy: 0.4721 - val_loss: 6.0198 - val_accuracy: 0.1936\n",
      "Epoch 93/100\n",
      "1761/1761 [==============================] - 428s 243ms/step - loss: 2.1614 - accuracy: 0.4728 - val_loss: 6.0156 - val_accuracy: 0.1917\n",
      "Epoch 94/100\n",
      "1761/1761 [==============================] - 427s 242ms/step - loss: 2.1590 - accuracy: 0.4753 - val_loss: 6.0291 - val_accuracy: 0.1920\n",
      "Epoch 95/100\n",
      "1761/1761 [==============================] - 428s 243ms/step - loss: 2.1545 - accuracy: 0.4743 - val_loss: 6.0322 - val_accuracy: 0.1914\n",
      "Epoch 96/100\n",
      "1761/1761 [==============================] - 427s 242ms/step - loss: 2.1508 - accuracy: 0.4756 - val_loss: 6.0499 - val_accuracy: 0.1933\n",
      "Epoch 97/100\n",
      "1761/1761 [==============================] - 428s 243ms/step - loss: 2.1512 - accuracy: 0.4755 - val_loss: 6.0542 - val_accuracy: 0.1917\n",
      "Epoch 98/100\n",
      "1761/1761 [==============================] - 426s 242ms/step - loss: 2.1476 - accuracy: 0.4750 - val_loss: 6.0589 - val_accuracy: 0.1907\n",
      "Epoch 99/100\n",
      "1761/1761 [==============================] - 427s 243ms/step - loss: 2.1419 - accuracy: 0.4754 - val_loss: 6.0689 - val_accuracy: 0.1919\n",
      "Epoch 100/100\n",
      "1761/1761 [==============================] - 426s 242ms/step - loss: 2.1386 - accuracy: 0.4767 - val_loss: 6.0749 - val_accuracy: 0.1936\n"
     ]
    }
   ],
   "source": [
    "# This will train the model; adjust epochs and batch size as necessary\n",
    "history = model.fit(X, y, epochs=100, batch_size=64, verbose=1, validation_split=0.2, callbacks=[early_stop])"
   ]
  },
  {
   "cell_type": "code",
   "execution_count": 36,
   "metadata": {},
   "outputs": [],
   "source": [
    "model.save('amazon_reviews_GRU.h5')"
   ]
  },
  {
   "cell_type": "code",
   "execution_count": 37,
   "metadata": {},
   "outputs": [],
   "source": [
    "from tensorflow.keras.models import load_model"
   ]
  },
  {
   "cell_type": "code",
   "execution_count": 38,
   "metadata": {},
   "outputs": [
    {
     "name": "stdout",
     "output_type": "stream",
     "text": [
      "WARNING:tensorflow:Layer gru will not use cuDNN kernels since it doesn't meet the criteria. It will use a generic GPU kernel as fallback when running on GPU.\n"
     ]
    }
   ],
   "source": [
    "model = load_model('amazon_reviews_GRU.h5')"
   ]
  },
  {
   "cell_type": "code",
   "execution_count": 39,
   "metadata": {},
   "outputs": [],
   "source": [
    "file = open(\"amzn_idx_to_word.pkl\", 'rb')\n",
    "idx_to_word = pickle.load(file)\n",
    "file.close()\n",
    "\n",
    "file = open(\"amzn_word_to_idx.pkl\", 'rb')\n",
    "word_to_idx = pickle.load(file)\n",
    "file.close()"
   ]
  },
  {
   "cell_type": "code",
   "execution_count": 40,
   "metadata": {},
   "outputs": [],
   "source": [
    "def predict_next_n_words(model, text, n, max_sequence_len, word_to_index, index_to_word):\n",
    "    \"\"\"\n",
    "    Predict the next n words based on the input text.\n",
    "\n",
    "    Args:\n",
    "    - model (tf.keras.Model): Trained model for prediction.\n",
    "    - text (str): Input string.\n",
    "    - n (int): Number of words to predict.\n",
    "    - max_sequence_len (int): Maximum length of input sequences.\n",
    "    - word_to_index (dict): Mapping from words to their respective indices.\n",
    "    - index_to_word (dict): Mapping from indices to their respective words.\n",
    "\n",
    "    Returns:\n",
    "    - str: Predicted sequence of words.\n",
    "    \"\"\"\n",
    "\n",
    "    predicted_sequence = []\n",
    "\n",
    "    for _ in range(n):\n",
    "        # Tokenize the input string\n",
    "        token_list = [word_to_index[word] for word in word_tokenize(text) if word in word_to_index]\n",
    "\n",
    "        # Pad the token sequence\n",
    "        token_list = pad_sequences([token_list], maxlen=max_sequence_len-1, padding='pre')\n",
    "\n",
    "        # Predict the token of the next word\n",
    "        predicted_idx = np.argmax(model.predict(token_list), axis=-1)\n",
    "\n",
    "        # Convert the token back to a word\n",
    "        predicted_word = index_to_word.get(predicted_idx[0], '')\n",
    "\n",
    "        # Append the predicted word to the sequence and to the text (for the next iteration)\n",
    "        predicted_sequence.append(predicted_word)\n",
    "        text += \" \" + predicted_word\n",
    "\n",
    "    return ' '.join(predicted_sequence)"
   ]
  },
  {
   "cell_type": "code",
   "execution_count": 46,
   "metadata": {},
   "outputs": [
    {
     "name": "stdout",
     "output_type": "stream",
     "text": [
      "In my opinion, I can get another . , but I have to use it in my phone , and it has worked\n"
     ]
    }
   ],
   "source": [
    "input_text = \"In my opinion,\"\n",
    "prediction = predict_next_n_words(model, input_text, 20, max_sequence_len, word_to_idx, idx_to_word)\n",
    "print(input_text + \" \" + prediction)"
   ]
  },
  {
   "cell_type": "code",
   "execution_count": 42,
   "metadata": {},
   "outputs": [
    {
     "name": "stdout",
     "output_type": "stream",
     "text": [
      "199\n"
     ]
    }
   ],
   "source": [
    "print(max_sequence_len)"
   ]
  }
 ],
 "metadata": {
  "kernelspec": {
   "display_name": "Python 3 (ipykernel)",
   "language": "python",
   "name": "python3"
  },
  "language_info": {
   "codemirror_mode": {
    "name": "ipython",
    "version": 3
   },
   "file_extension": ".py",
   "mimetype": "text/x-python",
   "name": "python",
   "nbconvert_exporter": "python",
   "pygments_lexer": "ipython3",
   "version": "3.9.7"
  }
 },
 "nbformat": 4,
 "nbformat_minor": 2
}

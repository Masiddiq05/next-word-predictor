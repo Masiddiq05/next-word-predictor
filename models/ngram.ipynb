{
 "cells": [
  {
   "cell_type": "markdown",
   "metadata": {},
   "source": [
    "# N-Gram Next Word Prediction Model"
   ]
  },
  {
   "cell_type": "markdown",
   "metadata": {},
   "source": [
    "We seek to create a model that, given a string of text, can reliably predict the following *n* words. The model will be a probabilistic N-Gram model. This should mainly serve as a lightweight test that will not perform amazingly besides the first couple of words."
   ]
  },
  {
   "cell_type": "markdown",
   "metadata": {},
   "source": [
    "## Preprocessing"
   ]
  },
  {
   "cell_type": "code",
   "execution_count": 1,
   "metadata": {},
   "outputs": [
    {
     "name": "stderr",
     "output_type": "stream",
     "text": [
      "[nltk_data] Downloading package punkt to\n",
      "[nltk_data]     C:\\Users\\amira\\AppData\\Roaming\\nltk_data...\n",
      "[nltk_data]   Package punkt is already up-to-date!\n"
     ]
    }
   ],
   "source": [
    "import sys\n",
    "sys.path.append('../')\n",
    "from util.process import Process\n",
    "from nltk.tokenize import word_tokenize"
   ]
  },
  {
   "cell_type": "code",
   "execution_count": 2,
   "metadata": {},
   "outputs": [],
   "source": [
    "FILE_NAME = 'sherlock_holmes_text.txt'\n",
    "\n",
    "sentences = Process.file_to_sentences(FILE_NAME)"
   ]
  },
  {
   "cell_type": "code",
   "execution_count": 3,
   "metadata": {},
   "outputs": [],
   "source": [
    "sentences=sentences[4:]\n",
    "sentences = [Process.modify_tokens(word_tokenize(sentence)) for sentence in sentences]"
   ]
  },
  {
   "cell_type": "code",
   "execution_count": null,
   "metadata": {},
   "outputs": [],
   "source": [
    "sentences[0:10]"
   ]
  },
  {
   "cell_type": "markdown",
   "metadata": {},
   "source": [
    "### Creating the n-grams"
   ]
  },
  {
   "cell_type": "code",
   "execution_count": 5,
   "metadata": {},
   "outputs": [],
   "source": [
    "def create_ngrams(sentences: list, n=3) -> list:\n",
    "    ngrams = []\n",
    "    for sentence in sentences:\n",
    "        for i in range(len(sentence)-n+1):\n",
    "            ngrams.append(sentence[i:i+n])\n",
    "    return ngrams"
   ]
  },
  {
   "cell_type": "code",
   "execution_count": 6,
   "metadata": {},
   "outputs": [
    {
     "data": {
      "text/plain": [
       "[['I', 'have', 'seldom'],\n",
       " ['have', 'seldom', 'heard'],\n",
       " ['seldom', 'heard', 'him'],\n",
       " ['heard', 'him', 'mention'],\n",
       " ['him', 'mention', 'her'],\n",
       " ['mention', 'her', 'under'],\n",
       " ['her', 'under', 'any'],\n",
       " ['under', 'any', 'other'],\n",
       " ['any', 'other', 'name.'],\n",
       " ['In', 'his', 'eyes']]"
      ]
     },
     "execution_count": 6,
     "metadata": {},
     "output_type": "execute_result"
    }
   ],
   "source": [
    "ngrams = create_ngrams(sentences)\n",
    "\n",
    "ngrams[:10]"
   ]
  },
  {
   "cell_type": "markdown",
   "metadata": {},
   "source": [
    "## Model Prototype"
   ]
  },
  {
   "cell_type": "code",
   "execution_count": 7,
   "metadata": {},
   "outputs": [],
   "source": [
    "# Now we can create the model\n",
    "from collections import defaultdict"
   ]
  },
  {
   "cell_type": "code",
   "execution_count": 8,
   "metadata": {},
   "outputs": [],
   "source": [
    "model = defaultdict(lambda: defaultdict(int))\n",
    "\n",
    "for ngram in ngrams:\n",
    "    w1, w2, w3 = ngram\n",
    "    model[(w1, w2)][w3] += 1"
   ]
  },
  {
   "cell_type": "markdown",
   "metadata": {},
   "source": [
    "### Data Viz"
   ]
  },
  {
   "cell_type": "code",
   "execution_count": 9,
   "metadata": {},
   "outputs": [],
   "source": [
    "import matplotlib.pyplot as plt\n",
    "import matplotlib.cm as cm\n",
    "import numpy as np"
   ]
  },
  {
   "cell_type": "code",
   "execution_count": 10,
   "metadata": {},
   "outputs": [],
   "source": [
    "\n",
    "def plot_model(model: dict, w1: str, w2: str, top_n=10):\n",
    "    words = [w for w, _ in sorted(model[(w1, w2)].items(), key=lambda x: x[1], reverse=True)[:top_n]]\n",
    "    counts = [c for _, c in sorted(model[(w1, w2)].items(), key=lambda x: x[1], reverse=True)[:top_n]]\n",
    "    colors = cm.rainbow(np.linspace(0, 1, len(words)))\n",
    "    plt.bar(words, counts, color=colors)\n",
    "    plt.xticks(rotation=45)\n",
    "    plt.show()"
   ]
  },
  {
   "cell_type": "code",
   "execution_count": 11,
   "metadata": {},
   "outputs": [
    {
     "data": {
      "image/png": "[encoded data removed]",
      "text/plain": [
       "<Figure size 640x480 with 1 Axes>"
      ]
     },
     "metadata": {},
     "output_type": "display_data"
    }
   ],
   "source": [
    "plot_model(model, 'I', 'was')"
   ]
  },
  {
   "cell_type": "markdown",
   "metadata": {},
   "source": [
    "## Prototype Testing"
   ]
  },
  {
   "cell_type": "code",
   "execution_count": 19,
   "metadata": {},
   "outputs": [],
   "source": [
    "def generate_next_n_words(model: dict, w1: str, w2: str, n=10) -> list:\n",
    "    words = []\n",
    "    for i in range(n):\n",
    "        if not model[(w1, w2)]:\n",
    "            break\n",
    "        w3 = max(model[(w1, w2)], key=model[(w1, w2)].get)\n",
    "        words.append(w3)\n",
    "        w1, w2 = w2, w3\n",
    "    return words"
   ]
  },
  {
   "cell_type": "code",
   "execution_count": 20,
   "metadata": {},
   "outputs": [
    {
     "data": {
      "text/plain": [
       "['not',\n",
       " 'a',\n",
       " 'very',\n",
       " 'serious',\n",
       " 'one',\n",
       " 'to',\n",
       " 'the',\n",
       " 'other',\n",
       " 'hand,',\n",
       " 'he',\n",
       " 'had',\n",
       " 'been',\n",
       " 'in',\n",
       " 'the',\n",
       " 'morning.']"
      ]
     },
     "execution_count": 20,
     "metadata": {},
     "output_type": "execute_result"
    }
   ],
   "source": [
    "generate_next_n_words(model, 'I', 'was', 20)"
   ]
  },
  {
   "cell_type": "code",
   "execution_count": 21,
   "metadata": {},
   "outputs": [
    {
     "data": {
      "text/plain": [
       "['was',\n",
       " 'not',\n",
       " 'a',\n",
       " 'very',\n",
       " 'serious',\n",
       " 'one',\n",
       " 'to',\n",
       " 'the',\n",
       " 'other',\n",
       " 'hand,',\n",
       " 'he',\n",
       " 'had',\n",
       " 'been',\n",
       " 'in',\n",
       " 'the',\n",
       " 'morning.']"
      ]
     },
     "execution_count": 21,
     "metadata": {},
     "output_type": "execute_result"
    }
   ],
   "source": [
    "generate_next_n_words(model, 'Sherlock', 'Holmes', 20)"
   ]
  },
  {
   "cell_type": "markdown",
   "metadata": {},
   "source": [
    "The n-gram model generates some comprehensible text, but quickly loses meaning past the first couple of words. It seems to really lack any kind of memory, as we see it go in loops and generate similar text for different prompts. This may be a consequence of our choice to use trigrams rather than larger assortments."
   ]
  },
  {
   "cell_type": "markdown",
   "metadata": {},
   "source": [
    "## Improving the Model"
   ]
  },
  {
   "cell_type": "code",
   "execution_count": 68,
   "metadata": {},
   "outputs": [],
   "source": [
    "larger_model = defaultdict(lambda: defaultdict(int))\n",
    "\n",
    "fourgrams = create_ngrams(sentences, n=4)\n",
    "trigrams = create_ngrams(sentences, n=3)\n",
    "bigrams = create_ngrams(sentences, n=2)"
   ]
  },
  {
   "cell_type": "code",
   "execution_count": 69,
   "metadata": {},
   "outputs": [
    {
     "data": {
      "text/plain": [
       "[['I', 'have', 'seldom', 'heard'],\n",
       " ['have', 'seldom', 'heard', 'him'],\n",
       " ['seldom', 'heard', 'him', 'mention'],\n",
       " ['heard', 'him', 'mention', 'her'],\n",
       " ['him', 'mention', 'her', 'under'],\n",
       " ['mention', 'her', 'under', 'any'],\n",
       " ['her', 'under', 'any', 'other'],\n",
       " ['under', 'any', 'other', 'name.'],\n",
       " ['In', 'his', 'eyes', 'she'],\n",
       " ['his', 'eyes', 'she', 'eclipses']]"
      ]
     },
     "execution_count": 69,
     "metadata": {},
     "output_type": "execute_result"
    }
   ],
   "source": [
    "fourgrams[:10]"
   ]
  },
  {
   "cell_type": "code",
   "execution_count": 70,
   "metadata": {},
   "outputs": [
    {
     "data": {
      "text/plain": [
       "91709"
      ]
     },
     "execution_count": 70,
     "metadata": {},
     "output_type": "execute_result"
    }
   ],
   "source": [
    "len(trigrams)"
   ]
  },
  {
   "cell_type": "code",
   "execution_count": 74,
   "metadata": {},
   "outputs": [],
   "source": [
    "ngrams = fourgrams + trigrams + bigrams\n",
    "\n",
    "for ngram in ngrams:\n",
    "    if len(ngram) == 4:\n",
    "        w1, w2, w3, w4 = ngram\n",
    "        larger_model[(w1, w2, w3)][w4] += 1\n",
    "    elif len(ngram) == 3:\n",
    "        w1, w2, w3 = ngram\n",
    "        larger_model[(w1, w2)][w3] += 1\n",
    "    elif len(ngram) == 2:\n",
    "        w1, w2 = ngram\n",
    "        larger_model[(w1)][w2] += 1"
   ]
  },
  {
   "cell_type": "code",
   "execution_count": null,
   "metadata": {},
   "outputs": [],
   "source": [
    "larger_model"
   ]
  },
  {
   "cell_type": "markdown",
   "metadata": {},
   "source": [
    "## Testing the Final Model"
   ]
  },
  {
   "cell_type": "code",
   "execution_count": 76,
   "metadata": {},
   "outputs": [],
   "source": [
    "def generate_next_n_words(model: dict, input: str, n=10) -> list:\n",
    "    words = input.split()\n",
    "    for i in range(n):\n",
    "        if not model[tuple(words[-4:])]:\n",
    "            if not model[tuple(words[-3:])]:\n",
    "                if not model[tuple(words[-2:])]:\n",
    "                    if not model[tuple(words[-1:])]:\n",
    "                        break\n",
    "                    w = max(model[tuple(words[-1:])], key=model[tuple(words[-1:])].get)\n",
    "                    words.append(w)\n",
    "                else:\n",
    "                    w = max(model[tuple(words[-2:])], key=model[tuple(words[-2:])].get)\n",
    "                    words.append(w)\n",
    "            else:\n",
    "                w = max(model[tuple(words[-3:])], key=model[tuple(words[-3:])].get)\n",
    "                words.append(w)\n",
    "        else:\n",
    "            w = max(model[tuple(words[-4:])], key=model[tuple(words[-4:])].get)\n",
    "            words.append(w)\n",
    "    return ' '.join(words)"
   ]
  },
  {
   "cell_type": "code",
   "execution_count": null,
   "metadata": {},
   "outputs": [],
   "source": [
    "model[('Sherlock', 'Holmes')]"
   ]
  },
  {
   "cell_type": "code",
   "execution_count": 79,
   "metadata": {},
   "outputs": [
    {
     "data": {
      "text/plain": [
       "'I was not to have the vacancy after all; but after thinking it over for a few minutes of his seeingMr. McCarthy'"
      ]
     },
     "execution_count": 79,
     "metadata": {},
     "output_type": "execute_result"
    }
   ],
   "source": [
    "generate_next_n_words(larger_model, 'I was', 20)"
   ]
  },
  {
   "cell_type": "code",
   "execution_count": 80,
   "metadata": {},
   "outputs": [
    {
     "data": {
      "text/plain": [
       "'Sherlock Holmes was not very communicative during the long drive and lay back in the cab humming the tunes which he had'"
      ]
     },
     "execution_count": 80,
     "metadata": {},
     "output_type": "execute_result"
    }
   ],
   "source": [
    "generate_next_n_words(larger_model, 'Sherlock Holmes', 20)"
   ]
  },
  {
   "cell_type": "code",
   "execution_count": 83,
   "metadata": {},
   "outputs": [
    {
     "data": {
      "text/plain": [
       "'His name is Vincent Spaulding, and hes not such a youth, either.'"
      ]
     },
     "execution_count": 83,
     "metadata": {},
     "output_type": "execute_result"
    }
   ],
   "source": [
    "generate_next_n_words(larger_model, 'His name is', 20)"
   ]
  },
  {
   "cell_type": "code",
   "execution_count": 82,
   "metadata": {},
   "outputs": [
    {
     "data": {
      "text/plain": [
       "'His name was new to him.'"
      ]
     },
     "execution_count": 82,
     "metadata": {},
     "output_type": "execute_result"
    }
   ],
   "source": [
    "generate_next_n_words(larger_model, 'His name was ', 20)"
   ]
  },
  {
   "cell_type": "markdown",
   "metadata": {},
   "source": [
    "The model is certainly performing much better! Although in some cases, the model is directly ripping text off from the book, it is also sometimes generating original sentences that are comprehensible. We will probably have better luck with a LSTM architecture."
   ]
  }
 ],
 "metadata": {
  "kernelspec": {
   "display_name": "Python 3",
   "language": "python",
   "name": "python3"
  },
  "language_info": {
   "codemirror_mode": {
    "name": "ipython",
    "version": 3
   },
   "file_extension": ".py",
   "mimetype": "text/x-python",
   "name": "python",
   "nbconvert_exporter": "python",
   "pygments_lexer": "ipython3",
   "version": "3.11.5"
  },
  "orig_nbformat": 4
 },
 "nbformat": 4,
 "nbformat_minor": 2
}

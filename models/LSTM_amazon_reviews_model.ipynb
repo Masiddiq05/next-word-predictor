{
 "cells": [
  {
   "cell_type": "code",
   "execution_count": 1,
   "metadata": {},
   "outputs": [
    {
     "name": "stderr",
     "output_type": "stream",
     "text": [
      "[nltk_data] Downloading package punkt to /home/amiralid/nltk_data...\n",
      "[nltk_data]   Package punkt is already up-to-date!\n"
     ]
    },
    {
     "data": {
      "text/plain": [
       "True"
      ]
     },
     "execution_count": 1,
     "metadata": {},
     "output_type": "execute_result"
    }
   ],
   "source": [
    "import pandas as pd\n",
    "import regex as re\n",
    "import nltk\n",
    "from nltk.tokenize import sent_tokenize, word_tokenize\n",
    "nltk.download('punkt')"
   ]
  },
  {
   "cell_type": "code",
   "execution_count": null,
   "metadata": {},
   "outputs": [],
   "source": [
    "!unzip data/amazon_reviews.csv.zip"
   ]
  },
  {
   "cell_type": "code",
   "execution_count": 2,
   "metadata": {},
   "outputs": [],
   "source": [
    "df = pd.read_csv('amazon_reviews.csv')"
   ]
  },
  {
   "cell_type": "code",
   "execution_count": 3,
   "metadata": {},
   "outputs": [
    {
     "data": {
      "text/html": [
       "<div>\n",
       "<style scoped>\n",
       "    .dataframe tbody tr th:only-of-type {\n",
       "        vertical-align: middle;\n",
       "    }\n",
       "\n",
       "    .dataframe tbody tr th {\n",
       "        vertical-align: top;\n",
       "    }\n",
       "\n",
       "    .dataframe thead th {\n",
       "        text-align: right;\n",
       "    }\n",
       "</style>\n",
       "<table border=\"1\" class=\"dataframe\">\n",
       "  <thead>\n",
       "    <tr style=\"text-align: right;\">\n",
       "      <th></th>\n",
       "      <th>Unnamed: 0</th>\n",
       "      <th>reviewerName</th>\n",
       "      <th>overall</th>\n",
       "      <th>reviewText</th>\n",
       "      <th>reviewTime</th>\n",
       "      <th>day_diff</th>\n",
       "      <th>helpful_yes</th>\n",
       "      <th>helpful_no</th>\n",
       "      <th>total_vote</th>\n",
       "      <th>score_pos_neg_diff</th>\n",
       "      <th>score_average_rating</th>\n",
       "      <th>wilson_lower_bound</th>\n",
       "    </tr>\n",
       "  </thead>\n",
       "  <tbody>\n",
       "    <tr>\n",
       "      <th>0</th>\n",
       "      <td>0</td>\n",
       "      <td>NaN</td>\n",
       "      <td>4.0</td>\n",
       "      <td>No issues.</td>\n",
       "      <td>2014-07-23</td>\n",
       "      <td>138</td>\n",
       "      <td>0</td>\n",
       "      <td>0</td>\n",
       "      <td>0</td>\n",
       "      <td>0</td>\n",
       "      <td>0.0</td>\n",
       "      <td>0.0</td>\n",
       "    </tr>\n",
       "    <tr>\n",
       "      <th>1</th>\n",
       "      <td>1</td>\n",
       "      <td>0mie</td>\n",
       "      <td>5.0</td>\n",
       "      <td>Purchased this for my device, it worked as adv...</td>\n",
       "      <td>2013-10-25</td>\n",
       "      <td>409</td>\n",
       "      <td>0</td>\n",
       "      <td>0</td>\n",
       "      <td>0</td>\n",
       "      <td>0</td>\n",
       "      <td>0.0</td>\n",
       "      <td>0.0</td>\n",
       "    </tr>\n",
       "    <tr>\n",
       "      <th>2</th>\n",
       "      <td>2</td>\n",
       "      <td>1K3</td>\n",
       "      <td>4.0</td>\n",
       "      <td>it works as expected. I should have sprung for...</td>\n",
       "      <td>2012-12-23</td>\n",
       "      <td>715</td>\n",
       "      <td>0</td>\n",
       "      <td>0</td>\n",
       "      <td>0</td>\n",
       "      <td>0</td>\n",
       "      <td>0.0</td>\n",
       "      <td>0.0</td>\n",
       "    </tr>\n",
       "    <tr>\n",
       "      <th>3</th>\n",
       "      <td>3</td>\n",
       "      <td>1m2</td>\n",
       "      <td>5.0</td>\n",
       "      <td>This think has worked out great.Had a diff. br...</td>\n",
       "      <td>2013-11-21</td>\n",
       "      <td>382</td>\n",
       "      <td>0</td>\n",
       "      <td>0</td>\n",
       "      <td>0</td>\n",
       "      <td>0</td>\n",
       "      <td>0.0</td>\n",
       "      <td>0.0</td>\n",
       "    </tr>\n",
       "    <tr>\n",
       "      <th>4</th>\n",
       "      <td>4</td>\n",
       "      <td>2&amp;amp;1/2Men</td>\n",
       "      <td>5.0</td>\n",
       "      <td>Bought it with Retail Packaging, arrived legit...</td>\n",
       "      <td>2013-07-13</td>\n",
       "      <td>513</td>\n",
       "      <td>0</td>\n",
       "      <td>0</td>\n",
       "      <td>0</td>\n",
       "      <td>0</td>\n",
       "      <td>0.0</td>\n",
       "      <td>0.0</td>\n",
       "    </tr>\n",
       "  </tbody>\n",
       "</table>\n",
       "</div>"
      ],
      "text/plain": [
       "   Unnamed: 0  reviewerName  overall  \\\n",
       "0           0           NaN      4.0   \n",
       "1           1          0mie      5.0   \n",
       "2           2           1K3      4.0   \n",
       "3           3           1m2      5.0   \n",
       "4           4  2&amp;1/2Men      5.0   \n",
       "\n",
       "                                          reviewText  reviewTime  day_diff  \\\n",
       "0                                         No issues.  2014-07-23       138   \n",
       "1  Purchased this for my device, it worked as adv...  2013-10-25       409   \n",
       "2  it works as expected. I should have sprung for...  2012-12-23       715   \n",
       "3  This think has worked out great.Had a diff. br...  2013-11-21       382   \n",
       "4  Bought it with Retail Packaging, arrived legit...  2013-07-13       513   \n",
       "\n",
       "   helpful_yes  helpful_no  total_vote  score_pos_neg_diff  \\\n",
       "0            0           0           0                   0   \n",
       "1            0           0           0                   0   \n",
       "2            0           0           0                   0   \n",
       "3            0           0           0                   0   \n",
       "4            0           0           0                   0   \n",
       "\n",
       "   score_average_rating  wilson_lower_bound  \n",
       "0                   0.0                 0.0  \n",
       "1                   0.0                 0.0  \n",
       "2                   0.0                 0.0  \n",
       "3                   0.0                 0.0  \n",
       "4                   0.0                 0.0  "
      ]
     },
     "execution_count": 3,
     "metadata": {},
     "output_type": "execute_result"
    }
   ],
   "source": [
    "df.head()"
   ]
  },
  {
   "cell_type": "code",
   "execution_count": 4,
   "metadata": {},
   "outputs": [],
   "source": [
    "# Keep only reviewText column\n",
    "df = df[['reviewText']]"
   ]
  },
  {
   "cell_type": "code",
   "execution_count": 5,
   "metadata": {},
   "outputs": [
    {
     "data": {
      "text/html": [
       "<div>\n",
       "<style scoped>\n",
       "    .dataframe tbody tr th:only-of-type {\n",
       "        vertical-align: middle;\n",
       "    }\n",
       "\n",
       "    .dataframe tbody tr th {\n",
       "        vertical-align: top;\n",
       "    }\n",
       "\n",
       "    .dataframe thead th {\n",
       "        text-align: right;\n",
       "    }\n",
       "</style>\n",
       "<table border=\"1\" class=\"dataframe\">\n",
       "  <thead>\n",
       "    <tr style=\"text-align: right;\">\n",
       "      <th></th>\n",
       "      <th>reviewText</th>\n",
       "    </tr>\n",
       "  </thead>\n",
       "  <tbody>\n",
       "    <tr>\n",
       "      <th>0</th>\n",
       "      <td>No issues.</td>\n",
       "    </tr>\n",
       "    <tr>\n",
       "      <th>1</th>\n",
       "      <td>Purchased this for my device, it worked as adv...</td>\n",
       "    </tr>\n",
       "    <tr>\n",
       "      <th>2</th>\n",
       "      <td>it works as expected. I should have sprung for...</td>\n",
       "    </tr>\n",
       "    <tr>\n",
       "      <th>3</th>\n",
       "      <td>This think has worked out great.Had a diff. br...</td>\n",
       "    </tr>\n",
       "    <tr>\n",
       "      <th>4</th>\n",
       "      <td>Bought it with Retail Packaging, arrived legit...</td>\n",
       "    </tr>\n",
       "  </tbody>\n",
       "</table>\n",
       "</div>"
      ],
      "text/plain": [
       "                                          reviewText\n",
       "0                                         No issues.\n",
       "1  Purchased this for my device, it worked as adv...\n",
       "2  it works as expected. I should have sprung for...\n",
       "3  This think has worked out great.Had a diff. br...\n",
       "4  Bought it with Retail Packaging, arrived legit..."
      ]
     },
     "execution_count": 5,
     "metadata": {},
     "output_type": "execute_result"
    }
   ],
   "source": [
    "df.head()"
   ]
  },
  {
   "cell_type": "code",
   "execution_count": 6,
   "metadata": {},
   "outputs": [],
   "source": [
    "def process(text: str):\n",
    "    text = text.strip()\n",
    "    text = re.sub(r'\\s+', ' ', text)  # Remove extra spaces\n",
    "    text = re.sub(r'[\\/|-|>|<|=|\\(|\\)|\\{|\\}|\\[\\]]+', '', text) # Eliminate slash and hyphen and other chars\n",
    "    text = re.sub(r'[0-9]+(gb|GB|Gb)', '', text)\n",
    "    text = re.sub(r'[0-9]+', '', text)\n",
    "    text = re.sub(r'[0-9]{1,2}\\/[0-9]{1,2}\\/[0-9]{2}', '', text)  # Remove dates\n",
    "    \n",
    "    if not text.endswith('.'):\n",
    "        text += '.'  # Add a period to the end of the sentence if it doesn't have one\n",
    "    text += \" \"\n",
    "    return text\n",
    "\n",
    "# Apply the function to each item in the column and then concatenate the results\n",
    "running_string = \"\".join(df['reviewText'].apply(lambda x: process(str(x))))"
   ]
  },
  {
   "cell_type": "code",
   "execution_count": 7,
   "metadata": {},
   "outputs": [],
   "source": [
    "sentences = sent_tokenize(running_string)"
   ]
  },
  {
   "cell_type": "code",
   "execution_count": 8,
   "metadata": {},
   "outputs": [],
   "source": [
    "sentences = sentences[:9000]"
   ]
  },
  {
   "cell_type": "code",
   "execution_count": 9,
   "metadata": {},
   "outputs": [
    {
     "data": {
      "text/plain": [
       "['No issues.',\n",
       " 'Purchased this for my device, it worked as advertised.',\n",
       " 'You can never have too much phone memory, since I download a lot of stuff this was a no brainer for me.',\n",
       " 'it works as expected.',\n",
       " 'I should have sprung for the higher capacity.',\n",
       " 'I think its made a bit cheesier than the earlier versions; the paint looks not as clean as before.',\n",
       " 'This think has worked out great.Had a diff.',\n",
       " 'bran  card and if went south after  months.This one has held up pretty well since I had my S, now on my Note.',\n",
       " \"*** update I've had this for a few months and have had ZERO issue's since it was transferred from my S to my Note and into a note.\",\n",
       " 'This card is reliable and solid!Cheers!.']"
      ]
     },
     "execution_count": 9,
     "metadata": {},
     "output_type": "execute_result"
    }
   ],
   "source": [
    "sentences[:10]"
   ]
  },
  {
   "cell_type": "code",
   "execution_count": 10,
   "metadata": {},
   "outputs": [
    {
     "data": {
      "text/plain": [
       "['This item is great!',\n",
       " \"I can't believe how small it is.\",\n",
       " \"Imagine  this size back in the 's when they had whole buildings full of computers that couldn't pack this much space!\",\n",
       " 'Great item.',\n",
       " \"I've been trying for a while to get a hold of a  Micro SD for my phone and tablet.\",\n",
       " \"It's pretty fast compared to the  cards I've been using.\",\n",
       " 'I really saw the performance boost with my phone, which I have many apps, pictures, music, and other documents on.',\n",
       " 'The phone boots fully stable in about  mins as apposed to - mins.',\n",
       " 'My computer also can write to these cards much faster than the  ones I was using.',\n",
       " 'If you phone, tablet or any other device can support it I recommend you purchase these.']"
      ]
     },
     "execution_count": 10,
     "metadata": {},
     "output_type": "execute_result"
    }
   ],
   "source": [
    "sentences[100:110]"
   ]
  },
  {
   "cell_type": "code",
   "execution_count": 11,
   "metadata": {},
   "outputs": [],
   "source": [
    "tokenized_sentences = [word_tokenize(sentence) for sentence in sentences]"
   ]
  },
  {
   "cell_type": "code",
   "execution_count": 12,
   "metadata": {},
   "outputs": [],
   "source": [
    "all_words = [word.strip() for sentence in tokenized_sentences for word in sentence]\n",
    "vocabulary = set(all_words)"
   ]
  },
  {
   "cell_type": "code",
   "execution_count": 13,
   "metadata": {},
   "outputs": [
    {
     "data": {
      "text/plain": [
       "['for',\n",
       " 'a',\n",
       " 'few',\n",
       " 'months',\n",
       " 'and',\n",
       " 'have',\n",
       " 'had',\n",
       " 'ZERO',\n",
       " 'issue',\n",
       " \"'s\",\n",
       " 'since',\n",
       " 'it',\n",
       " 'was',\n",
       " 'transferred',\n",
       " 'from',\n",
       " 'my',\n",
       " 'S',\n",
       " 'to',\n",
       " 'my',\n",
       " 'Note']"
      ]
     },
     "execution_count": 13,
     "metadata": {},
     "output_type": "execute_result"
    }
   ],
   "source": [
    "all_words[115:135]"
   ]
  },
  {
   "cell_type": "code",
   "execution_count": 14,
   "metadata": {},
   "outputs": [
    {
     "data": {
      "text/plain": [
       "8198"
      ]
     },
     "execution_count": 14,
     "metadata": {},
     "output_type": "execute_result"
    }
   ],
   "source": [
    "len(vocabulary)"
   ]
  },
  {
   "cell_type": "code",
   "execution_count": 15,
   "metadata": {},
   "outputs": [],
   "source": [
    "# Using a list comprehension, we can loop through each (idx, word) pair from enumerate\n",
    "# Each pair holds the key and value we want in our word_to_idx dict\n",
    "# We start the enumeration from 1, not 0, because want 0 to represent the padding token\n",
    "word_to_idx = {word.strip() : idx for idx, word in enumerate(vocabulary, 1)}\n",
    "# Let's also create a idx_to_word dict so we can interpet the results of the model later\n",
    "idx_to_word = {idx : word.strip() for word, idx in word_to_idx.items()}\n",
    "vocab_size = len(vocabulary) + 1"
   ]
  },
  {
   "cell_type": "code",
   "execution_count": 16,
   "metadata": {},
   "outputs": [],
   "source": [
    "import pickle\n",
    "with open('amzn_word_to_idx.pkl', 'wb') as f:  # open a text file\n",
    "    pickle.dump(word_to_idx, f)\n",
    "with open('amzn_idx_to_word.pkl', 'wb') as f:\n",
    "    pickle.dump(idx_to_word, f)"
   ]
  },
  {
   "cell_type": "code",
   "execution_count": 17,
   "metadata": {},
   "outputs": [],
   "source": [
    "input_sequences = []\n",
    "for sentence in tokenized_sentences:\n",
    "  # Convert the sentence to its numerical representation with the word_to_idx mapping\n",
    "  numerized_sentence = [word_to_idx[word.strip()] for word in sentence]\n",
    "  # Create ngrams from size 2 to the size of the sentence\n",
    "  for i in range(2, len(sentence) + 1):\n",
    "    ngram = numerized_sentence[:i]\n",
    "    input_sequences.append(ngram)"
   ]
  },
  {
   "cell_type": "code",
   "execution_count": 18,
   "metadata": {},
   "outputs": [],
   "source": [
    "from tensorflow.keras.utils import to_categorical\n",
    "from tensorflow.keras.preprocessing.sequence import pad_sequences"
   ]
  },
  {
   "cell_type": "code",
   "execution_count": 19,
   "metadata": {},
   "outputs": [],
   "source": [
    "# Now, let's pad the sequences so they are all the same length\n",
    "max_sequence_len = max([len(seq) for seq in input_sequences])\n",
    "# pad_sequences adds 0s to the beginning of each array until size(vector) = max_sequence_len\n",
    "# This is why we started our enumeration from 1, not 0, because 0 represents the padding token\n",
    "# We use pre padding because padding at the end would cause us to lose the location of the label\n",
    "input_sequences = pad_sequences(input_sequences, maxlen=max_sequence_len, padding='pre')"
   ]
  },
  {
   "cell_type": "code",
   "execution_count": 20,
   "metadata": {},
   "outputs": [],
   "source": [
    "X = [sequence[:-1] for sequence in input_sequences]\n",
    "y = [sequence[-1] for sequence in input_sequences]"
   ]
  },
  {
   "cell_type": "code",
   "execution_count": 21,
   "metadata": {},
   "outputs": [],
   "source": [
    "def pretty_display(vec: list[int], idx_to_word: dict):\n",
    "    print(\" \".join([idx_to_word[idx] if idx else '' for idx in vec]).strip())\n",
    "\n",
    "def pretty_display_all(vecs: list[list[int]], idx_to_word: dict):\n",
    "    for vec in vecs:\n",
    "        pretty_display(vec, idx_to_word)\n",
    "\n",
    "def pretty_display_one(idx: int, idx_to_word: dict):\n",
    "    print(idx_to_word[idx])"
   ]
  },
  {
   "cell_type": "code",
   "execution_count": 22,
   "metadata": {},
   "outputs": [
    {
     "name": "stdout",
     "output_type": "stream",
     "text": [
      "I would not hesitate to buy\n"
     ]
    }
   ],
   "source": [
    "pretty_display(X[1003], idx_to_word)"
   ]
  },
  {
   "cell_type": "code",
   "execution_count": 23,
   "metadata": {},
   "outputs": [
    {
     "name": "stdout",
     "output_type": "stream",
     "text": [
      "another one of these great\n"
     ]
    }
   ],
   "source": [
    "pretty_display(y[1003:1008], idx_to_word)"
   ]
  },
  {
   "cell_type": "code",
   "execution_count": 24,
   "metadata": {},
   "outputs": [],
   "source": [
    "y = to_categorical(y, num_classes=vocab_size)"
   ]
  },
  {
   "cell_type": "code",
   "execution_count": 30,
   "metadata": {},
   "outputs": [],
   "source": [
    "import numpy as np"
   ]
  },
  {
   "cell_type": "code",
   "execution_count": 31,
   "metadata": {},
   "outputs": [
    {
     "data": {
      "text/plain": [
       "(140881, 198)"
      ]
     },
     "execution_count": 31,
     "metadata": {},
     "output_type": "execute_result"
    }
   ],
   "source": [
    "arr_x = np.array(X)\n",
    "arr_x.shape"
   ]
  },
  {
   "cell_type": "code",
   "execution_count": null,
   "metadata": {},
   "outputs": [],
   "source": [
    "# arr_y = np.array(y)\n",
    "# arr_y.shape"
   ]
  },
  {
   "cell_type": "markdown",
   "metadata": {},
   "source": [
    "# Building the Model"
   ]
  },
  {
   "cell_type": "code",
   "execution_count": 25,
   "metadata": {},
   "outputs": [],
   "source": [
    "from tensorflow.keras.callbacks import EarlyStopping\n",
    "from tensorflow.keras.models import Sequential\n",
    "from tensorflow.keras.layers import Embedding, LSTM, Dense, Dropout, BatchNormalization, SpatialDropout1D, GaussianNoise\n",
    "from tensorflow.keras.regularizers import l2\n",
    "from tensorflow.keras.optimizers import Adam"
   ]
  },
  {
   "cell_type": "code",
   "execution_count": 27,
   "metadata": {},
   "outputs": [
    {
     "name": "stdout",
     "output_type": "stream",
     "text": [
      "WARNING:tensorflow:Layer lstm_1 will not use cuDNN kernels since it doesn't meet the criteria. It will use a generic GPU kernel as fallback when running on GPU.\n"
     ]
    }
   ],
   "source": [
    "# Building the RNN model\n",
    "model = Sequential()\n",
    "\n",
    "# Embedding layer\n",
    "model.add(Embedding(vocab_size, 48, input_length=max_sequence_len-1))  # Increased embedding dimensions\n",
    "model.add(SpatialDropout1D(0.15))\n",
    "model.add(GaussianNoise(0.1))\n",
    "\n",
    "# RNN 1\n",
    "model.add(LSTM(96, dropout=0.2, recurrent_dropout=0.2))  # Increased units, added dropout\n",
    "model.add(BatchNormalization())\n",
    "\n",
    "# Final Layer\n",
    "model.add(Dense(vocab_size, activation='softmax'))"
   ]
  },
  {
   "cell_type": "code",
   "execution_count": 28,
   "metadata": {},
   "outputs": [
    {
     "name": "stdout",
     "output_type": "stream",
     "text": [
      "Model: \"sequential_1\"\n",
      "_________________________________________________________________\n",
      " Layer (type)                Output Shape              Param #   \n",
      "=================================================================\n",
      " embedding_1 (Embedding)     (None, 198, 48)           393552    \n",
      "                                                                 \n",
      " spatial_dropout1d_1 (Spatia  (None, 198, 48)          0         \n",
      " lDropout1D)                                                     \n",
      "                                                                 \n",
      " gaussian_noise_1 (GaussianN  (None, 198, 48)          0         \n",
      " oise)                                                           \n",
      "                                                                 \n",
      " lstm_1 (LSTM)               (None, 96)                55680     \n",
      "                                                                 \n",
      " batch_normalization_1 (Batc  (None, 96)               384       \n",
      " hNormalization)                                                 \n",
      "                                                                 \n",
      " dense_1 (Dense)             (None, 8199)              795303    \n",
      "                                                                 \n",
      "=================================================================\n",
      "Total params: 1,244,919\n",
      "Trainable params: 1,244,727\n",
      "Non-trainable params: 192\n",
      "_________________________________________________________________\n"
     ]
    }
   ],
   "source": [
    "model.compile(optimizer=Adam(learning_rate=0.01, clipnorm=1.0), loss='categorical_crossentropy', metrics=['accuracy'])\n",
    "model.summary()"
   ]
  },
  {
   "cell_type": "code",
   "execution_count": 32,
   "metadata": {},
   "outputs": [],
   "source": [
    "# Stop the model early\n",
    "early_stop = EarlyStopping(monitor='loss', patience=12, verbose=1, restore_best_weights=True)"
   ]
  },
  {
   "cell_type": "code",
   "execution_count": 29,
   "metadata": {},
   "outputs": [],
   "source": [
    "from tensorflow import convert_to_tensor"
   ]
  },
  {
   "cell_type": "code",
   "execution_count": 34,
   "metadata": {},
   "outputs": [],
   "source": [
    "X = convert_to_tensor(arr_x)\n",
    "y = convert_to_tensor(y)"
   ]
  },
  {
   "cell_type": "code",
   "execution_count": 35,
   "metadata": {},
   "outputs": [
    {
     "name": "stdout",
     "output_type": "stream",
     "text": [
      "Epoch 1/50\n",
      "1761/1761 [==============================] - 450s 254ms/step - loss: 5.4091 - accuracy: 0.1450 - val_loss: 4.9194 - val_accuracy: 0.1797\n",
      "Epoch 2/50\n",
      "1761/1761 [==============================] - 446s 253ms/step - loss: 4.7377 - accuracy: 0.1819 - val_loss: 4.8152 - val_accuracy: 0.1896\n",
      "Epoch 3/50\n",
      "1761/1761 [==============================] - 446s 253ms/step - loss: 4.5020 - accuracy: 0.1955 - val_loss: 4.8312 - val_accuracy: 0.1967\n",
      "Epoch 4/50\n",
      "1761/1761 [==============================] - 445s 253ms/step - loss: 4.3521 - accuracy: 0.2002 - val_loss: 4.8758 - val_accuracy: 0.1921\n",
      "Epoch 5/50\n",
      "1761/1761 [==============================] - 446s 253ms/step - loss: 4.2501 - accuracy: 0.2054 - val_loss: 4.8704 - val_accuracy: 0.2014\n",
      "Epoch 6/50\n",
      "1761/1761 [==============================] - 446s 253ms/step - loss: 4.1712 - accuracy: 0.2098 - val_loss: 4.9401 - val_accuracy: 0.2006\n",
      "Epoch 7/50\n",
      "1761/1761 [==============================] - 445s 253ms/step - loss: 4.1115 - accuracy: 0.2139 - val_loss: 4.9365 - val_accuracy: 0.2034\n",
      "Epoch 8/50\n",
      "1761/1761 [==============================] - 449s 255ms/step - loss: 4.0667 - accuracy: 0.2161 - val_loss: 4.9478 - val_accuracy: 0.1982\n",
      "Epoch 9/50\n",
      "1761/1761 [==============================] - 449s 255ms/step - loss: 4.0287 - accuracy: 0.2178 - val_loss: 4.9895 - val_accuracy: 0.2023\n",
      "Epoch 10/50\n",
      "1761/1761 [==============================] - 450s 255ms/step - loss: 4.0003 - accuracy: 0.2181 - val_loss: 5.0387 - val_accuracy: 0.2000\n",
      "Epoch 11/50\n",
      "1761/1761 [==============================] - 448s 255ms/step - loss: 3.9720 - accuracy: 0.2209 - val_loss: 5.0151 - val_accuracy: 0.2028\n",
      "Epoch 12/50\n",
      "1761/1761 [==============================] - 447s 254ms/step - loss: 3.9553 - accuracy: 0.2223 - val_loss: 5.0596 - val_accuracy: 0.2029\n",
      "Epoch 13/50\n",
      "1761/1761 [==============================] - 447s 254ms/step - loss: 3.9464 - accuracy: 0.2217 - val_loss: 5.0453 - val_accuracy: 0.1988\n",
      "Epoch 14/50\n",
      "1761/1761 [==============================] - 447s 254ms/step - loss: 3.9226 - accuracy: 0.2244 - val_loss: 5.0643 - val_accuracy: 0.2004\n",
      "Epoch 15/50\n",
      "1761/1761 [==============================] - 449s 255ms/step - loss: 3.9032 - accuracy: 0.2240 - val_loss: 5.1120 - val_accuracy: 0.1979\n",
      "Epoch 16/50\n",
      "1761/1761 [==============================] - 449s 255ms/step - loss: 3.8854 - accuracy: 0.2265 - val_loss: 5.1305 - val_accuracy: 0.1961\n",
      "Epoch 17/50\n",
      "1761/1761 [==============================] - 451s 256ms/step - loss: 3.8804 - accuracy: 0.2258 - val_loss: 5.0829 - val_accuracy: 0.1957\n",
      "Epoch 18/50\n",
      "1761/1761 [==============================] - 449s 255ms/step - loss: 3.8668 - accuracy: 0.2277 - val_loss: 5.1072 - val_accuracy: 0.1986\n",
      "Epoch 19/50\n",
      "1761/1761 [==============================] - 451s 256ms/step - loss: 3.8614 - accuracy: 0.2285 - val_loss: 5.1273 - val_accuracy: 0.1974\n",
      "Epoch 20/50\n",
      "1761/1761 [==============================] - 450s 256ms/step - loss: 3.8521 - accuracy: 0.2282 - val_loss: 5.1191 - val_accuracy: 0.1985\n",
      "Epoch 21/50\n",
      "1761/1761 [==============================] - 449s 255ms/step - loss: 3.8524 - accuracy: 0.2279 - val_loss: 5.1514 - val_accuracy: 0.1955\n",
      "Epoch 22/50\n",
      "1761/1761 [==============================] - 449s 255ms/step - loss: 3.8401 - accuracy: 0.2293 - val_loss: 5.1791 - val_accuracy: 0.1964\n",
      "Epoch 23/50\n",
      "1761/1761 [==============================] - 450s 255ms/step - loss: 3.8321 - accuracy: 0.2307 - val_loss: 5.1861 - val_accuracy: 0.1919\n",
      "Epoch 24/50\n",
      "1761/1761 [==============================] - 449s 255ms/step - loss: 3.8283 - accuracy: 0.2302 - val_loss: 5.1676 - val_accuracy: 0.1967\n",
      "Epoch 25/50\n",
      "1761/1761 [==============================] - 450s 256ms/step - loss: 3.8168 - accuracy: 0.2321 - val_loss: 5.1462 - val_accuracy: 0.1975\n",
      "Epoch 26/50\n",
      "1761/1761 [==============================] - 450s 256ms/step - loss: 3.8173 - accuracy: 0.2306 - val_loss: 5.1889 - val_accuracy: 0.1919\n",
      "Epoch 27/50\n",
      "1761/1761 [==============================] - 451s 256ms/step - loss: 3.8100 - accuracy: 0.2316 - val_loss: 5.1331 - val_accuracy: 0.1969\n",
      "Epoch 28/50\n",
      "1761/1761 [==============================] - 451s 256ms/step - loss: 3.8067 - accuracy: 0.2312 - val_loss: 5.1898 - val_accuracy: 0.1957\n",
      "Epoch 29/50\n",
      "1761/1761 [==============================] - 449s 255ms/step - loss: 3.8059 - accuracy: 0.2318 - val_loss: 5.2115 - val_accuracy: 0.1932\n",
      "Epoch 30/50\n",
      "1761/1761 [==============================] - 448s 254ms/step - loss: 3.8111 - accuracy: 0.2308 - val_loss: 5.1592 - val_accuracy: 0.1960\n",
      "Epoch 31/50\n",
      "1761/1761 [==============================] - 451s 256ms/step - loss: 3.8014 - accuracy: 0.2332 - val_loss: 5.2090 - val_accuracy: 0.1930\n",
      "Epoch 32/50\n",
      "1761/1761 [==============================] - 452s 256ms/step - loss: 3.7969 - accuracy: 0.2327 - val_loss: 5.2052 - val_accuracy: 0.1937\n",
      "Epoch 33/50\n",
      "1761/1761 [==============================] - 451s 256ms/step - loss: 3.7937 - accuracy: 0.2315 - val_loss: 5.1814 - val_accuracy: 0.1933\n",
      "Epoch 34/50\n",
      "1761/1761 [==============================] - 451s 256ms/step - loss: 3.7890 - accuracy: 0.2311 - val_loss: 5.2061 - val_accuracy: 0.1952\n",
      "Epoch 35/50\n",
      "1761/1761 [==============================] - 449s 255ms/step - loss: 3.7835 - accuracy: 0.2338 - val_loss: 5.2871 - val_accuracy: 0.1875\n",
      "Epoch 36/50\n",
      "1761/1761 [==============================] - 450s 255ms/step - loss: 3.7838 - accuracy: 0.2338 - val_loss: 5.2442 - val_accuracy: 0.1952\n",
      "Epoch 37/50\n",
      "1761/1761 [==============================] - 450s 256ms/step - loss: 3.7818 - accuracy: 0.2335 - val_loss: 5.2055 - val_accuracy: 0.1936\n",
      "Epoch 38/50\n",
      "1761/1761 [==============================] - 450s 256ms/step - loss: 3.7767 - accuracy: 0.2338 - val_loss: 5.2846 - val_accuracy: 0.1936\n",
      "Epoch 39/50\n",
      "1761/1761 [==============================] - 450s 256ms/step - loss: 3.7772 - accuracy: 0.2340 - val_loss: 5.2512 - val_accuracy: 0.1940\n",
      "Epoch 40/50\n",
      "1761/1761 [==============================] - 450s 255ms/step - loss: 3.7769 - accuracy: 0.2346 - val_loss: 5.2467 - val_accuracy: 0.1968\n",
      "Epoch 41/50\n",
      "1761/1761 [==============================] - 451s 256ms/step - loss: 3.7716 - accuracy: 0.2351 - val_loss: 5.2729 - val_accuracy: 0.1915\n",
      "Epoch 42/50\n",
      "1761/1761 [==============================] - 452s 257ms/step - loss: 3.7728 - accuracy: 0.2336 - val_loss: 5.2286 - val_accuracy: 0.1977\n",
      "Epoch 43/50\n",
      "1761/1761 [==============================] - 450s 255ms/step - loss: 3.7728 - accuracy: 0.2339 - val_loss: 5.2668 - val_accuracy: 0.1925\n",
      "Epoch 44/50\n",
      "1761/1761 [==============================] - 450s 256ms/step - loss: 3.7685 - accuracy: 0.2340 - val_loss: 5.3230 - val_accuracy: 0.1915\n",
      "Epoch 45/50\n",
      "1761/1761 [==============================] - 451s 256ms/step - loss: 3.7618 - accuracy: 0.2341 - val_loss: 5.3075 - val_accuracy: 0.1961\n",
      "Epoch 46/50\n",
      "1761/1761 [==============================] - 449s 255ms/step - loss: 3.7597 - accuracy: 0.2344 - val_loss: 5.2453 - val_accuracy: 0.1952\n",
      "Epoch 47/50\n",
      "1761/1761 [==============================] - 451s 256ms/step - loss: 3.7610 - accuracy: 0.2350 - val_loss: 5.2790 - val_accuracy: 0.1956\n",
      "Epoch 48/50\n",
      "1761/1761 [==============================] - 452s 257ms/step - loss: 3.7537 - accuracy: 0.2360 - val_loss: 5.3346 - val_accuracy: 0.1906\n",
      "Epoch 49/50\n",
      "1761/1761 [==============================] - 451s 256ms/step - loss: 3.7558 - accuracy: 0.2366 - val_loss: 5.3141 - val_accuracy: 0.1939\n",
      "Epoch 50/50\n",
      "1761/1761 [==============================] - 451s 256ms/step - loss: 3.7575 - accuracy: 0.2362 - val_loss: 5.2894 - val_accuracy: 0.1962\n"
     ]
    }
   ],
   "source": [
    "# This will train the model; adjust epochs and batch size as necessary\n",
    "history = model.fit(X, y, epochs=50, batch_size=64, verbose=1, validation_split=0.2, callbacks=[early_stop])"
   ]
  },
  {
   "cell_type": "code",
   "execution_count": 36,
   "metadata": {},
   "outputs": [],
   "source": [
    "model.save('amazon_reviews_LSTM.h5')"
   ]
  },
  {
   "cell_type": "code",
   "execution_count": 37,
   "metadata": {},
   "outputs": [],
   "source": [
    "def predict_next_n_words(model, text, n, max_sequence_len, word_to_index, index_to_word):\n",
    "    \"\"\"\n",
    "    Predict the next n words based on the input text.\n",
    "\n",
    "    Args:\n",
    "    - model (tf.keras.Model): Trained model for prediction.\n",
    "    - text (str): Input string.\n",
    "    - n (int): Number of words to predict.\n",
    "    - max_sequence_len (int): Maximum length of input sequences.\n",
    "    - word_to_index (dict): Mapping from words to their respective indices.\n",
    "    - index_to_word (dict): Mapping from indices to their respective words.\n",
    "\n",
    "    Returns:\n",
    "    - str: Predicted sequence of words.\n",
    "    \"\"\"\n",
    "\n",
    "    predicted_sequence = []\n",
    "\n",
    "    for _ in range(n):\n",
    "        # Tokenize the input string\n",
    "        token_list = [word_to_index[word] for word in word_tokenize(text) if word in word_to_index]\n",
    "\n",
    "        # Pad the token sequence\n",
    "        token_list = pad_sequences([token_list], maxlen=max_sequence_len-1, padding='pre')\n",
    "\n",
    "        # Predict the token of the next word\n",
    "        predicted_idx = np.argmax(model.predict(token_list), axis=-1)\n",
    "\n",
    "        # Convert the token back to a word\n",
    "        predicted_word = index_to_word.get(predicted_idx[0], '')\n",
    "\n",
    "        # Append the predicted word to the sequence and to the text (for the next iteration)\n",
    "        predicted_sequence.append(predicted_word)\n",
    "        text += \" \" + predicted_word\n",
    "\n",
    "    return ' '.join(predicted_sequence)"
   ]
  },
  {
   "cell_type": "code",
   "execution_count": 38,
   "metadata": {},
   "outputs": [
    {
     "name": "stdout",
     "output_type": "stream",
     "text": [
      "This new phone is going to be the next biggest thing . , and they are\n"
     ]
    }
   ],
   "source": [
    "input_text = \"This new phone is going to be the next biggest thing\"\n",
    "prediction = predict_next_n_words(model, input_text, 5, max_sequence_len, word_to_idx, idx_to_word)\n",
    "print(input_text + \" \" + prediction)"
   ]
  }
 ],
 "metadata": {
  "kernelspec": {
   "display_name": "Python 3 (ipykernel)",
   "language": "python",
   "name": "python3"
  },
  "language_info": {
   "codemirror_mode": {
    "name": "ipython",
    "version": 3
   },
   "file_extension": ".py",
   "mimetype": "text/x-python",
   "name": "python",
   "nbconvert_exporter": "python",
   "pygments_lexer": "ipython3",
   "version": "3.9.7"
  }
 },
 "nbformat": 4,
 "nbformat_minor": 2
}
